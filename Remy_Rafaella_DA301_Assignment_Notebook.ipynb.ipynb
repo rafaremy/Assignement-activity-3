{
 "cells": [
  {
   "cell_type": "markdown",
   "id": "79df7dc6",
   "metadata": {},
   "source": [
    "# Assignment Activity 1: Make predictions with regression"
   ]
  },
  {
   "cell_type": "markdown",
   "id": "127ae618",
   "metadata": {},
   "source": [
    "1) Launch Jupyter Notebook and create a new Python3 file.\n",
    "\n",
    "2) Import the Python libraries and packages that you’ll need to perform linear regression. \n",
    "\n",
    "3) Load the turtle_reviews.csv file, which you can download from Assignment: Predicting future outcomes and explore the data. \n",
    "    \n",
    "    #Create a new DataFrame (e.g. reviews).\n",
    "    \n",
    "    #Sense-check the DataFrame by printing the DataFrame, data types and metadata.\n",
    "\n",
    "    #Determine if there are any missing values in the DataFrame.\n",
    "    \n",
    "    #Create a summary of the descriptive statistics."
   ]
  },
  {
   "cell_type": "code",
   "execution_count": 1,
   "id": "0f241c6d",
   "metadata": {},
   "outputs": [],
   "source": [
    "import statsmodels.api as sm\n",
    "from sklearn import datasets \n",
    "import numpy as np\n",
    "from sklearn import linear_model\n",
    "import pandas as pd\n",
    "from statsmodels.stats.outliers_influence import variance_inflation_factor\n",
    "import sklearn\n",
    "from sklearn.model_selection import train_test_split\n",
    "from sklearn import metrics\n",
    "from sklearn.linear_model import LinearRegression\n",
    "import matplotlib.pyplot as plt\n",
    "\n",
    "import warnings  \n",
    "warnings.filterwarnings('ignore')  "
   ]
  },
  {
   "cell_type": "code",
   "execution_count": 2,
   "id": "5173fb91",
   "metadata": {},
   "outputs": [
    {
     "data": {
      "text/html": [
       "<div>\n",
       "<style scoped>\n",
       "    .dataframe tbody tr th:only-of-type {\n",
       "        vertical-align: middle;\n",
       "    }\n",
       "\n",
       "    .dataframe tbody tr th {\n",
       "        vertical-align: top;\n",
       "    }\n",
       "\n",
       "    .dataframe thead th {\n",
       "        text-align: right;\n",
       "    }\n",
       "</style>\n",
       "<table border=\"1\" class=\"dataframe\">\n",
       "  <thead>\n",
       "    <tr style=\"text-align: right;\">\n",
       "      <th></th>\n",
       "      <th>gender</th>\n",
       "      <th>age</th>\n",
       "      <th>remuneration (k£)</th>\n",
       "      <th>spending_score (1-100)</th>\n",
       "      <th>loyalty_points</th>\n",
       "      <th>education</th>\n",
       "      <th>language</th>\n",
       "      <th>platform</th>\n",
       "      <th>product</th>\n",
       "      <th>review</th>\n",
       "      <th>summary</th>\n",
       "    </tr>\n",
       "  </thead>\n",
       "  <tbody>\n",
       "    <tr>\n",
       "      <th>0</th>\n",
       "      <td>Male</td>\n",
       "      <td>18</td>\n",
       "      <td>12.30</td>\n",
       "      <td>39</td>\n",
       "      <td>210</td>\n",
       "      <td>graduate</td>\n",
       "      <td>EN</td>\n",
       "      <td>Web</td>\n",
       "      <td>453</td>\n",
       "      <td>When it comes to a DM's screen, the space on t...</td>\n",
       "      <td>The fact that 50% of this space is wasted on a...</td>\n",
       "    </tr>\n",
       "    <tr>\n",
       "      <th>1</th>\n",
       "      <td>Male</td>\n",
       "      <td>23</td>\n",
       "      <td>12.30</td>\n",
       "      <td>81</td>\n",
       "      <td>524</td>\n",
       "      <td>graduate</td>\n",
       "      <td>EN</td>\n",
       "      <td>Web</td>\n",
       "      <td>466</td>\n",
       "      <td>An Open Letter to GaleForce9*:\\n\\nYour unpaint...</td>\n",
       "      <td>Another worthless Dungeon Master's screen from...</td>\n",
       "    </tr>\n",
       "    <tr>\n",
       "      <th>2</th>\n",
       "      <td>Female</td>\n",
       "      <td>22</td>\n",
       "      <td>13.12</td>\n",
       "      <td>6</td>\n",
       "      <td>40</td>\n",
       "      <td>graduate</td>\n",
       "      <td>EN</td>\n",
       "      <td>Web</td>\n",
       "      <td>254</td>\n",
       "      <td>Nice art, nice printing.  Why two panels are f...</td>\n",
       "      <td>pretty, but also pretty useless</td>\n",
       "    </tr>\n",
       "    <tr>\n",
       "      <th>3</th>\n",
       "      <td>Female</td>\n",
       "      <td>25</td>\n",
       "      <td>13.12</td>\n",
       "      <td>77</td>\n",
       "      <td>562</td>\n",
       "      <td>graduate</td>\n",
       "      <td>EN</td>\n",
       "      <td>Web</td>\n",
       "      <td>263</td>\n",
       "      <td>Amazing buy! Bought it as a gift for our new d...</td>\n",
       "      <td>Five Stars</td>\n",
       "    </tr>\n",
       "    <tr>\n",
       "      <th>4</th>\n",
       "      <td>Female</td>\n",
       "      <td>33</td>\n",
       "      <td>13.94</td>\n",
       "      <td>40</td>\n",
       "      <td>366</td>\n",
       "      <td>graduate</td>\n",
       "      <td>EN</td>\n",
       "      <td>Web</td>\n",
       "      <td>291</td>\n",
       "      <td>As my review of GF9's previous screens these w...</td>\n",
       "      <td>Money trap</td>\n",
       "    </tr>\n",
       "  </tbody>\n",
       "</table>\n",
       "</div>"
      ],
      "text/plain": [
       "   gender  age  remuneration (k£)  spending_score (1-100)  loyalty_points  \\\n",
       "0    Male   18              12.30                      39             210   \n",
       "1    Male   23              12.30                      81             524   \n",
       "2  Female   22              13.12                       6              40   \n",
       "3  Female   25              13.12                      77             562   \n",
       "4  Female   33              13.94                      40             366   \n",
       "\n",
       "  education language platform  product  \\\n",
       "0  graduate       EN      Web      453   \n",
       "1  graduate       EN      Web      466   \n",
       "2  graduate       EN      Web      254   \n",
       "3  graduate       EN      Web      263   \n",
       "4  graduate       EN      Web      291   \n",
       "\n",
       "                                              review  \\\n",
       "0  When it comes to a DM's screen, the space on t...   \n",
       "1  An Open Letter to GaleForce9*:\\n\\nYour unpaint...   \n",
       "2  Nice art, nice printing.  Why two panels are f...   \n",
       "3  Amazing buy! Bought it as a gift for our new d...   \n",
       "4  As my review of GF9's previous screens these w...   \n",
       "\n",
       "                                             summary  \n",
       "0  The fact that 50% of this space is wasted on a...  \n",
       "1  Another worthless Dungeon Master's screen from...  \n",
       "2                    pretty, but also pretty useless  \n",
       "3                                         Five Stars  \n",
       "4                                         Money trap  "
      ]
     },
     "execution_count": 2,
     "metadata": {},
     "output_type": "execute_result"
    }
   ],
   "source": [
    "# Import the data set.\n",
    "reviews = pd.read_csv('turtle_reviews.csv')\n",
    "\n",
    "# View the DataFrame.\n",
    "reviews.head()"
   ]
  },
  {
   "cell_type": "code",
   "execution_count": 3,
   "id": "97cf8744",
   "metadata": {
    "scrolled": true
   },
   "outputs": [
    {
     "data": {
      "text/plain": [
       "gender                     object\n",
       "age                         int64\n",
       "remuneration (k£)         float64\n",
       "spending_score (1-100)      int64\n",
       "loyalty_points              int64\n",
       "education                  object\n",
       "language                   object\n",
       "platform                   object\n",
       "product                     int64\n",
       "review                     object\n",
       "summary                    object\n",
       "dtype: object"
      ]
     },
     "execution_count": 3,
     "metadata": {},
     "output_type": "execute_result"
    }
   ],
   "source": [
    "reviews.dtypes"
   ]
  },
  {
   "cell_type": "code",
   "execution_count": 4,
   "id": "35de4666",
   "metadata": {},
   "outputs": [
    {
     "name": "stdout",
     "output_type": "stream",
     "text": [
      "   gender  age  remuneration (k£)  spending_score (1-100)  loyalty_points  \\\n",
      "0    Male   18              12.30                      39             210   \n",
      "1    Male   23              12.30                      81             524   \n",
      "2  Female   22              13.12                       6              40   \n",
      "3  Female   25              13.12                      77             562   \n",
      "4  Female   33              13.94                      40             366   \n",
      "\n",
      "  education language platform  product  \\\n",
      "0  graduate       EN      Web      453   \n",
      "1  graduate       EN      Web      466   \n",
      "2  graduate       EN      Web      254   \n",
      "3  graduate       EN      Web      263   \n",
      "4  graduate       EN      Web      291   \n",
      "\n",
      "                                              review  \\\n",
      "0  When it comes to a DM's screen, the space on t...   \n",
      "1  An Open Letter to GaleForce9*:\\n\\nYour unpaint...   \n",
      "2  Nice art, nice printing.  Why two panels are f...   \n",
      "3  Amazing buy! Bought it as a gift for our new d...   \n",
      "4  As my review of GF9's previous screens these w...   \n",
      "\n",
      "                                             summary  \n",
      "0  The fact that 50% of this space is wasted on a...  \n",
      "1  Another worthless Dungeon Master's screen from...  \n",
      "2                    pretty, but also pretty useless  \n",
      "3                                         Five Stars  \n",
      "4                                         Money trap  \n",
      "<class 'pandas.core.frame.DataFrame'>\n",
      "RangeIndex: 2000 entries, 0 to 1999\n",
      "Data columns (total 11 columns):\n",
      " #   Column                  Non-Null Count  Dtype  \n",
      "---  ------                  --------------  -----  \n",
      " 0   gender                  2000 non-null   object \n",
      " 1   age                     2000 non-null   int64  \n",
      " 2   remuneration (k£)       2000 non-null   float64\n",
      " 3   spending_score (1-100)  2000 non-null   int64  \n",
      " 4   loyalty_points          2000 non-null   int64  \n",
      " 5   education               2000 non-null   object \n",
      " 6   language                2000 non-null   object \n",
      " 7   platform                2000 non-null   object \n",
      " 8   product                 2000 non-null   int64  \n",
      " 9   review                  2000 non-null   object \n",
      " 10  summary                 2000 non-null   object \n",
      "dtypes: float64(1), int64(4), object(6)\n",
      "memory usage: 172.0+ KB\n",
      "None\n"
     ]
    },
    {
     "data": {
      "text/html": [
       "<div>\n",
       "<style scoped>\n",
       "    .dataframe tbody tr th:only-of-type {\n",
       "        vertical-align: middle;\n",
       "    }\n",
       "\n",
       "    .dataframe tbody tr th {\n",
       "        vertical-align: top;\n",
       "    }\n",
       "\n",
       "    .dataframe thead th {\n",
       "        text-align: right;\n",
       "    }\n",
       "</style>\n",
       "<table border=\"1\" class=\"dataframe\">\n",
       "  <thead>\n",
       "    <tr style=\"text-align: right;\">\n",
       "      <th></th>\n",
       "      <th>age</th>\n",
       "      <th>remuneration (k£)</th>\n",
       "      <th>spending_score (1-100)</th>\n",
       "      <th>loyalty_points</th>\n",
       "      <th>product</th>\n",
       "    </tr>\n",
       "  </thead>\n",
       "  <tbody>\n",
       "    <tr>\n",
       "      <th>count</th>\n",
       "      <td>2000.000000</td>\n",
       "      <td>2000.000000</td>\n",
       "      <td>2000.000000</td>\n",
       "      <td>2000.000000</td>\n",
       "      <td>2000.000000</td>\n",
       "    </tr>\n",
       "    <tr>\n",
       "      <th>mean</th>\n",
       "      <td>39.495000</td>\n",
       "      <td>48.079060</td>\n",
       "      <td>50.000000</td>\n",
       "      <td>1578.032000</td>\n",
       "      <td>4320.521500</td>\n",
       "    </tr>\n",
       "    <tr>\n",
       "      <th>std</th>\n",
       "      <td>13.573212</td>\n",
       "      <td>23.123984</td>\n",
       "      <td>26.094702</td>\n",
       "      <td>1283.239705</td>\n",
       "      <td>3148.938839</td>\n",
       "    </tr>\n",
       "    <tr>\n",
       "      <th>min</th>\n",
       "      <td>17.000000</td>\n",
       "      <td>12.300000</td>\n",
       "      <td>1.000000</td>\n",
       "      <td>25.000000</td>\n",
       "      <td>107.000000</td>\n",
       "    </tr>\n",
       "    <tr>\n",
       "      <th>25%</th>\n",
       "      <td>29.000000</td>\n",
       "      <td>30.340000</td>\n",
       "      <td>32.000000</td>\n",
       "      <td>772.000000</td>\n",
       "      <td>1589.250000</td>\n",
       "    </tr>\n",
       "    <tr>\n",
       "      <th>50%</th>\n",
       "      <td>38.000000</td>\n",
       "      <td>47.150000</td>\n",
       "      <td>50.000000</td>\n",
       "      <td>1276.000000</td>\n",
       "      <td>3624.000000</td>\n",
       "    </tr>\n",
       "    <tr>\n",
       "      <th>75%</th>\n",
       "      <td>49.000000</td>\n",
       "      <td>63.960000</td>\n",
       "      <td>73.000000</td>\n",
       "      <td>1751.250000</td>\n",
       "      <td>6654.000000</td>\n",
       "    </tr>\n",
       "    <tr>\n",
       "      <th>max</th>\n",
       "      <td>72.000000</td>\n",
       "      <td>112.340000</td>\n",
       "      <td>99.000000</td>\n",
       "      <td>6847.000000</td>\n",
       "      <td>11086.000000</td>\n",
       "    </tr>\n",
       "  </tbody>\n",
       "</table>\n",
       "</div>"
      ],
      "text/plain": [
       "               age  remuneration (k£)  spending_score (1-100)  loyalty_points  \\\n",
       "count  2000.000000        2000.000000             2000.000000     2000.000000   \n",
       "mean     39.495000          48.079060               50.000000     1578.032000   \n",
       "std      13.573212          23.123984               26.094702     1283.239705   \n",
       "min      17.000000          12.300000                1.000000       25.000000   \n",
       "25%      29.000000          30.340000               32.000000      772.000000   \n",
       "50%      38.000000          47.150000               50.000000     1276.000000   \n",
       "75%      49.000000          63.960000               73.000000     1751.250000   \n",
       "max      72.000000         112.340000               99.000000     6847.000000   \n",
       "\n",
       "            product  \n",
       "count   2000.000000  \n",
       "mean    4320.521500  \n",
       "std     3148.938839  \n",
       "min      107.000000  \n",
       "25%     1589.250000  \n",
       "50%     3624.000000  \n",
       "75%     6654.000000  \n",
       "max    11086.000000  "
      ]
     },
     "execution_count": 4,
     "metadata": {},
     "output_type": "execute_result"
    }
   ],
   "source": [
    "# View the DataFrame.\n",
    "print(reviews.head())\n",
    "print(reviews.info())\n",
    "reviews.describe()"
   ]
  },
  {
   "cell_type": "markdown",
   "id": "4ef75f9e",
   "metadata": {},
   "source": [
    "# The DataFrame consists of 2000 rows and 11 columns.\n",
    "# The metadata indicates that both columns have 2000 non-null values. \n",
    "# which means there is no missing data. \n",
    "# The descriptive statistics also confirm the max, min, and count values. "
   ]
  },
  {
   "cell_type": "markdown",
   "id": "34595b63",
   "metadata": {},
   "source": [
    "4) Remove redundant columns (language and platform)."
   ]
  },
  {
   "cell_type": "code",
   "execution_count": 5,
   "id": "9a851b9f",
   "metadata": {
    "scrolled": true
   },
   "outputs": [
    {
     "data": {
      "text/plain": [
       "<bound method DataFrame.drop of       gender  age  remuneration (k£)  spending_score (1-100)  loyalty_points  \\\n",
       "0       Male   18              12.30                      39             210   \n",
       "1       Male   23              12.30                      81             524   \n",
       "2     Female   22              13.12                       6              40   \n",
       "3     Female   25              13.12                      77             562   \n",
       "4     Female   33              13.94                      40             366   \n",
       "...      ...  ...                ...                     ...             ...   \n",
       "1995  Female   37              84.46                      69            4031   \n",
       "1996  Female   43              92.66                       8             539   \n",
       "1997    Male   34              92.66                      91            5614   \n",
       "1998    Male   34              98.40                      16            1048   \n",
       "1999    Male   32              92.66                       8             479   \n",
       "\n",
       "     education  product                                             review  \\\n",
       "0     graduate      453  When it comes to a DM's screen, the space on t...   \n",
       "1     graduate      466  An Open Letter to GaleForce9*:\\n\\nYour unpaint...   \n",
       "2     graduate      254  Nice art, nice printing.  Why two panels are f...   \n",
       "3     graduate      263  Amazing buy! Bought it as a gift for our new d...   \n",
       "4     graduate      291  As my review of GF9's previous screens these w...   \n",
       "...        ...      ...                                                ...   \n",
       "1995       PhD      977  The perfect word game for mixed ages (with Mom...   \n",
       "1996       PhD      979  Great game.  Did not think I would like it whe...   \n",
       "1997  graduate     1012  Great game for all.........\\nKeeps the mind ni...   \n",
       "1998       PhD     1031                                          fun game!   \n",
       "1999       PhD      453  This game is fun. A lot like scrabble without ...   \n",
       "\n",
       "                                                summary  \n",
       "0     The fact that 50% of this space is wasted on a...  \n",
       "1     Another worthless Dungeon Master's screen from...  \n",
       "2                       pretty, but also pretty useless  \n",
       "3                                            Five Stars  \n",
       "4                                            Money trap  \n",
       "...                                                 ...  \n",
       "1995     The perfect word game for mixed ages (with Mom  \n",
       "1996                                          Super fun  \n",
       "1997                                         Great Game  \n",
       "1998                                         Four Stars  \n",
       "1999                                     Love this game  \n",
       "\n",
       "[2000 rows x 9 columns]>"
      ]
     },
     "execution_count": 5,
     "metadata": {},
     "output_type": "execute_result"
    }
   ],
   "source": [
    "# Remove redundant columns.\n",
    "reviews.drop(['language', 'platform'], axis='columns', inplace=True)\n",
    "reviews.drop"
   ]
  },
  {
   "cell_type": "markdown",
   "id": "8c65010e",
   "metadata": {},
   "source": [
    "5) Change column headings to names that are easier to reference (e.g. renumeration and spending_score)."
   ]
  },
  {
   "cell_type": "code",
   "execution_count": 6,
   "id": "d5f03c68",
   "metadata": {
    "scrolled": true
   },
   "outputs": [
    {
     "data": {
      "text/html": [
       "<div>\n",
       "<style scoped>\n",
       "    .dataframe tbody tr th:only-of-type {\n",
       "        vertical-align: middle;\n",
       "    }\n",
       "\n",
       "    .dataframe tbody tr th {\n",
       "        vertical-align: top;\n",
       "    }\n",
       "\n",
       "    .dataframe thead th {\n",
       "        text-align: right;\n",
       "    }\n",
       "</style>\n",
       "<table border=\"1\" class=\"dataframe\">\n",
       "  <thead>\n",
       "    <tr style=\"text-align: right;\">\n",
       "      <th></th>\n",
       "      <th>gender</th>\n",
       "      <th>age</th>\n",
       "      <th>remuneration</th>\n",
       "      <th>spending_score</th>\n",
       "      <th>loyalty_points</th>\n",
       "      <th>education</th>\n",
       "      <th>product</th>\n",
       "      <th>review</th>\n",
       "      <th>summary</th>\n",
       "    </tr>\n",
       "  </thead>\n",
       "  <tbody>\n",
       "    <tr>\n",
       "      <th>0</th>\n",
       "      <td>Male</td>\n",
       "      <td>18</td>\n",
       "      <td>12.30</td>\n",
       "      <td>39</td>\n",
       "      <td>210</td>\n",
       "      <td>graduate</td>\n",
       "      <td>453</td>\n",
       "      <td>When it comes to a DM's screen, the space on t...</td>\n",
       "      <td>The fact that 50% of this space is wasted on a...</td>\n",
       "    </tr>\n",
       "    <tr>\n",
       "      <th>1</th>\n",
       "      <td>Male</td>\n",
       "      <td>23</td>\n",
       "      <td>12.30</td>\n",
       "      <td>81</td>\n",
       "      <td>524</td>\n",
       "      <td>graduate</td>\n",
       "      <td>466</td>\n",
       "      <td>An Open Letter to GaleForce9*:\\n\\nYour unpaint...</td>\n",
       "      <td>Another worthless Dungeon Master's screen from...</td>\n",
       "    </tr>\n",
       "    <tr>\n",
       "      <th>2</th>\n",
       "      <td>Female</td>\n",
       "      <td>22</td>\n",
       "      <td>13.12</td>\n",
       "      <td>6</td>\n",
       "      <td>40</td>\n",
       "      <td>graduate</td>\n",
       "      <td>254</td>\n",
       "      <td>Nice art, nice printing.  Why two panels are f...</td>\n",
       "      <td>pretty, but also pretty useless</td>\n",
       "    </tr>\n",
       "    <tr>\n",
       "      <th>3</th>\n",
       "      <td>Female</td>\n",
       "      <td>25</td>\n",
       "      <td>13.12</td>\n",
       "      <td>77</td>\n",
       "      <td>562</td>\n",
       "      <td>graduate</td>\n",
       "      <td>263</td>\n",
       "      <td>Amazing buy! Bought it as a gift for our new d...</td>\n",
       "      <td>Five Stars</td>\n",
       "    </tr>\n",
       "    <tr>\n",
       "      <th>4</th>\n",
       "      <td>Female</td>\n",
       "      <td>33</td>\n",
       "      <td>13.94</td>\n",
       "      <td>40</td>\n",
       "      <td>366</td>\n",
       "      <td>graduate</td>\n",
       "      <td>291</td>\n",
       "      <td>As my review of GF9's previous screens these w...</td>\n",
       "      <td>Money trap</td>\n",
       "    </tr>\n",
       "    <tr>\n",
       "      <th>...</th>\n",
       "      <td>...</td>\n",
       "      <td>...</td>\n",
       "      <td>...</td>\n",
       "      <td>...</td>\n",
       "      <td>...</td>\n",
       "      <td>...</td>\n",
       "      <td>...</td>\n",
       "      <td>...</td>\n",
       "      <td>...</td>\n",
       "    </tr>\n",
       "    <tr>\n",
       "      <th>1995</th>\n",
       "      <td>Female</td>\n",
       "      <td>37</td>\n",
       "      <td>84.46</td>\n",
       "      <td>69</td>\n",
       "      <td>4031</td>\n",
       "      <td>PhD</td>\n",
       "      <td>977</td>\n",
       "      <td>The perfect word game for mixed ages (with Mom...</td>\n",
       "      <td>The perfect word game for mixed ages (with Mom</td>\n",
       "    </tr>\n",
       "    <tr>\n",
       "      <th>1996</th>\n",
       "      <td>Female</td>\n",
       "      <td>43</td>\n",
       "      <td>92.66</td>\n",
       "      <td>8</td>\n",
       "      <td>539</td>\n",
       "      <td>PhD</td>\n",
       "      <td>979</td>\n",
       "      <td>Great game.  Did not think I would like it whe...</td>\n",
       "      <td>Super fun</td>\n",
       "    </tr>\n",
       "    <tr>\n",
       "      <th>1997</th>\n",
       "      <td>Male</td>\n",
       "      <td>34</td>\n",
       "      <td>92.66</td>\n",
       "      <td>91</td>\n",
       "      <td>5614</td>\n",
       "      <td>graduate</td>\n",
       "      <td>1012</td>\n",
       "      <td>Great game for all.........\\nKeeps the mind ni...</td>\n",
       "      <td>Great Game</td>\n",
       "    </tr>\n",
       "    <tr>\n",
       "      <th>1998</th>\n",
       "      <td>Male</td>\n",
       "      <td>34</td>\n",
       "      <td>98.40</td>\n",
       "      <td>16</td>\n",
       "      <td>1048</td>\n",
       "      <td>PhD</td>\n",
       "      <td>1031</td>\n",
       "      <td>fun game!</td>\n",
       "      <td>Four Stars</td>\n",
       "    </tr>\n",
       "    <tr>\n",
       "      <th>1999</th>\n",
       "      <td>Male</td>\n",
       "      <td>32</td>\n",
       "      <td>92.66</td>\n",
       "      <td>8</td>\n",
       "      <td>479</td>\n",
       "      <td>PhD</td>\n",
       "      <td>453</td>\n",
       "      <td>This game is fun. A lot like scrabble without ...</td>\n",
       "      <td>Love this game</td>\n",
       "    </tr>\n",
       "  </tbody>\n",
       "</table>\n",
       "<p>2000 rows × 9 columns</p>\n",
       "</div>"
      ],
      "text/plain": [
       "      gender  age  remuneration  spending_score  loyalty_points education  \\\n",
       "0       Male   18         12.30              39             210  graduate   \n",
       "1       Male   23         12.30              81             524  graduate   \n",
       "2     Female   22         13.12               6              40  graduate   \n",
       "3     Female   25         13.12              77             562  graduate   \n",
       "4     Female   33         13.94              40             366  graduate   \n",
       "...      ...  ...           ...             ...             ...       ...   \n",
       "1995  Female   37         84.46              69            4031       PhD   \n",
       "1996  Female   43         92.66               8             539       PhD   \n",
       "1997    Male   34         92.66              91            5614  graduate   \n",
       "1998    Male   34         98.40              16            1048       PhD   \n",
       "1999    Male   32         92.66               8             479       PhD   \n",
       "\n",
       "      product                                             review  \\\n",
       "0         453  When it comes to a DM's screen, the space on t...   \n",
       "1         466  An Open Letter to GaleForce9*:\\n\\nYour unpaint...   \n",
       "2         254  Nice art, nice printing.  Why two panels are f...   \n",
       "3         263  Amazing buy! Bought it as a gift for our new d...   \n",
       "4         291  As my review of GF9's previous screens these w...   \n",
       "...       ...                                                ...   \n",
       "1995      977  The perfect word game for mixed ages (with Mom...   \n",
       "1996      979  Great game.  Did not think I would like it whe...   \n",
       "1997     1012  Great game for all.........\\nKeeps the mind ni...   \n",
       "1998     1031                                          fun game!   \n",
       "1999      453  This game is fun. A lot like scrabble without ...   \n",
       "\n",
       "                                                summary  \n",
       "0     The fact that 50% of this space is wasted on a...  \n",
       "1     Another worthless Dungeon Master's screen from...  \n",
       "2                       pretty, but also pretty useless  \n",
       "3                                            Five Stars  \n",
       "4                                            Money trap  \n",
       "...                                                 ...  \n",
       "1995     The perfect word game for mixed ages (with Mom  \n",
       "1996                                          Super fun  \n",
       "1997                                         Great Game  \n",
       "1998                                         Four Stars  \n",
       "1999                                     Love this game  \n",
       "\n",
       "[2000 rows x 9 columns]"
      ]
     },
     "execution_count": 6,
     "metadata": {},
     "output_type": "execute_result"
    }
   ],
   "source": [
    "# Rename the columns headers.\n",
    "reviews = reviews.rename(columns={'remuneration (k£)': 'remuneration', 'spending_score (1-100)':'spending_score'})\n",
    "\n",
    "#view columns names.\n",
    "reviews"
   ]
  },
  {
   "cell_type": "markdown",
   "id": "9a8df3d7",
   "metadata": {},
   "source": [
    "6) Save a copy of the clean DataFrame as a CSV file and import the file to sense-check (e.g. shape, metadata).\n"
   ]
  },
  {
   "cell_type": "code",
   "execution_count": 7,
   "id": "0c16136d",
   "metadata": {},
   "outputs": [],
   "source": [
    "reviews.to_csv('turtle_reviews_clean.csv', index=False)"
   ]
  },
  {
   "cell_type": "code",
   "execution_count": 8,
   "id": "a6a4fa7a",
   "metadata": {},
   "outputs": [
    {
     "data": {
      "text/html": [
       "<div>\n",
       "<style scoped>\n",
       "    .dataframe tbody tr th:only-of-type {\n",
       "        vertical-align: middle;\n",
       "    }\n",
       "\n",
       "    .dataframe tbody tr th {\n",
       "        vertical-align: top;\n",
       "    }\n",
       "\n",
       "    .dataframe thead th {\n",
       "        text-align: right;\n",
       "    }\n",
       "</style>\n",
       "<table border=\"1\" class=\"dataframe\">\n",
       "  <thead>\n",
       "    <tr style=\"text-align: right;\">\n",
       "      <th></th>\n",
       "      <th>gender</th>\n",
       "      <th>age</th>\n",
       "      <th>remuneration</th>\n",
       "      <th>spending_score</th>\n",
       "      <th>loyalty_points</th>\n",
       "      <th>education</th>\n",
       "      <th>product</th>\n",
       "      <th>review</th>\n",
       "      <th>summary</th>\n",
       "    </tr>\n",
       "  </thead>\n",
       "  <tbody>\n",
       "    <tr>\n",
       "      <th>0</th>\n",
       "      <td>Male</td>\n",
       "      <td>18</td>\n",
       "      <td>12.30</td>\n",
       "      <td>39</td>\n",
       "      <td>210</td>\n",
       "      <td>graduate</td>\n",
       "      <td>453</td>\n",
       "      <td>When it comes to a DM's screen, the space on t...</td>\n",
       "      <td>The fact that 50% of this space is wasted on a...</td>\n",
       "    </tr>\n",
       "    <tr>\n",
       "      <th>1</th>\n",
       "      <td>Male</td>\n",
       "      <td>23</td>\n",
       "      <td>12.30</td>\n",
       "      <td>81</td>\n",
       "      <td>524</td>\n",
       "      <td>graduate</td>\n",
       "      <td>466</td>\n",
       "      <td>An Open Letter to GaleForce9*:\\n\\nYour unpaint...</td>\n",
       "      <td>Another worthless Dungeon Master's screen from...</td>\n",
       "    </tr>\n",
       "    <tr>\n",
       "      <th>2</th>\n",
       "      <td>Female</td>\n",
       "      <td>22</td>\n",
       "      <td>13.12</td>\n",
       "      <td>6</td>\n",
       "      <td>40</td>\n",
       "      <td>graduate</td>\n",
       "      <td>254</td>\n",
       "      <td>Nice art, nice printing.  Why two panels are f...</td>\n",
       "      <td>pretty, but also pretty useless</td>\n",
       "    </tr>\n",
       "    <tr>\n",
       "      <th>3</th>\n",
       "      <td>Female</td>\n",
       "      <td>25</td>\n",
       "      <td>13.12</td>\n",
       "      <td>77</td>\n",
       "      <td>562</td>\n",
       "      <td>graduate</td>\n",
       "      <td>263</td>\n",
       "      <td>Amazing buy! Bought it as a gift for our new d...</td>\n",
       "      <td>Five Stars</td>\n",
       "    </tr>\n",
       "    <tr>\n",
       "      <th>4</th>\n",
       "      <td>Female</td>\n",
       "      <td>33</td>\n",
       "      <td>13.94</td>\n",
       "      <td>40</td>\n",
       "      <td>366</td>\n",
       "      <td>graduate</td>\n",
       "      <td>291</td>\n",
       "      <td>As my review of GF9's previous screens these w...</td>\n",
       "      <td>Money trap</td>\n",
       "    </tr>\n",
       "  </tbody>\n",
       "</table>\n",
       "</div>"
      ],
      "text/plain": [
       "   gender  age  remuneration  spending_score  loyalty_points education  \\\n",
       "0    Male   18         12.30              39             210  graduate   \n",
       "1    Male   23         12.30              81             524  graduate   \n",
       "2  Female   22         13.12               6              40  graduate   \n",
       "3  Female   25         13.12              77             562  graduate   \n",
       "4  Female   33         13.94              40             366  graduate   \n",
       "\n",
       "   product                                             review  \\\n",
       "0      453  When it comes to a DM's screen, the space on t...   \n",
       "1      466  An Open Letter to GaleForce9*:\\n\\nYour unpaint...   \n",
       "2      254  Nice art, nice printing.  Why two panels are f...   \n",
       "3      263  Amazing buy! Bought it as a gift for our new d...   \n",
       "4      291  As my review of GF9's previous screens these w...   \n",
       "\n",
       "                                             summary  \n",
       "0  The fact that 50% of this space is wasted on a...  \n",
       "1  Another worthless Dungeon Master's screen from...  \n",
       "2                    pretty, but also pretty useless  \n",
       "3                                         Five Stars  \n",
       "4                                         Money trap  "
      ]
     },
     "execution_count": 8,
     "metadata": {},
     "output_type": "execute_result"
    }
   ],
   "source": [
    "# Load the CSV file (house_price.csv).\n",
    "reviews = pd.read_csv('turtle_reviews_clean.csv')  \n",
    "\n",
    "# Print the DataFrame.\n",
    "reviews.head()\n"
   ]
  },
  {
   "cell_type": "code",
   "execution_count": 9,
   "id": "2a777eae",
   "metadata": {
    "scrolled": true
   },
   "outputs": [
    {
     "name": "stdout",
     "output_type": "stream",
     "text": [
      "   gender  age  remuneration  spending_score  loyalty_points education  \\\n",
      "0    Male   18         12.30              39             210  graduate   \n",
      "1    Male   23         12.30              81             524  graduate   \n",
      "2  Female   22         13.12               6              40  graduate   \n",
      "3  Female   25         13.12              77             562  graduate   \n",
      "4  Female   33         13.94              40             366  graduate   \n",
      "\n",
      "   product                                             review  \\\n",
      "0      453  When it comes to a DM's screen, the space on t...   \n",
      "1      466  An Open Letter to GaleForce9*:\\n\\nYour unpaint...   \n",
      "2      254  Nice art, nice printing.  Why two panels are f...   \n",
      "3      263  Amazing buy! Bought it as a gift for our new d...   \n",
      "4      291  As my review of GF9's previous screens these w...   \n",
      "\n",
      "                                             summary  \n",
      "0  The fact that 50% of this space is wasted on a...  \n",
      "1  Another worthless Dungeon Master's screen from...  \n",
      "2                    pretty, but also pretty useless  \n",
      "3                                         Five Stars  \n",
      "4                                         Money trap  \n",
      "<class 'pandas.core.frame.DataFrame'>\n",
      "RangeIndex: 2000 entries, 0 to 1999\n",
      "Data columns (total 9 columns):\n",
      " #   Column          Non-Null Count  Dtype  \n",
      "---  ------          --------------  -----  \n",
      " 0   gender          2000 non-null   object \n",
      " 1   age             2000 non-null   int64  \n",
      " 2   remuneration    2000 non-null   float64\n",
      " 3   spending_score  2000 non-null   int64  \n",
      " 4   loyalty_points  2000 non-null   int64  \n",
      " 5   education       2000 non-null   object \n",
      " 6   product         2000 non-null   int64  \n",
      " 7   review          2000 non-null   object \n",
      " 8   summary         2000 non-null   object \n",
      "dtypes: float64(1), int64(4), object(4)\n",
      "memory usage: 140.8+ KB\n",
      "None\n"
     ]
    },
    {
     "data": {
      "text/html": [
       "<div>\n",
       "<style scoped>\n",
       "    .dataframe tbody tr th:only-of-type {\n",
       "        vertical-align: middle;\n",
       "    }\n",
       "\n",
       "    .dataframe tbody tr th {\n",
       "        vertical-align: top;\n",
       "    }\n",
       "\n",
       "    .dataframe thead th {\n",
       "        text-align: right;\n",
       "    }\n",
       "</style>\n",
       "<table border=\"1\" class=\"dataframe\">\n",
       "  <thead>\n",
       "    <tr style=\"text-align: right;\">\n",
       "      <th></th>\n",
       "      <th>age</th>\n",
       "      <th>remuneration</th>\n",
       "      <th>spending_score</th>\n",
       "      <th>loyalty_points</th>\n",
       "      <th>product</th>\n",
       "    </tr>\n",
       "  </thead>\n",
       "  <tbody>\n",
       "    <tr>\n",
       "      <th>count</th>\n",
       "      <td>2000.000000</td>\n",
       "      <td>2000.000000</td>\n",
       "      <td>2000.000000</td>\n",
       "      <td>2000.000000</td>\n",
       "      <td>2000.000000</td>\n",
       "    </tr>\n",
       "    <tr>\n",
       "      <th>mean</th>\n",
       "      <td>39.495000</td>\n",
       "      <td>48.079060</td>\n",
       "      <td>50.000000</td>\n",
       "      <td>1578.032000</td>\n",
       "      <td>4320.521500</td>\n",
       "    </tr>\n",
       "    <tr>\n",
       "      <th>std</th>\n",
       "      <td>13.573212</td>\n",
       "      <td>23.123984</td>\n",
       "      <td>26.094702</td>\n",
       "      <td>1283.239705</td>\n",
       "      <td>3148.938839</td>\n",
       "    </tr>\n",
       "    <tr>\n",
       "      <th>min</th>\n",
       "      <td>17.000000</td>\n",
       "      <td>12.300000</td>\n",
       "      <td>1.000000</td>\n",
       "      <td>25.000000</td>\n",
       "      <td>107.000000</td>\n",
       "    </tr>\n",
       "    <tr>\n",
       "      <th>25%</th>\n",
       "      <td>29.000000</td>\n",
       "      <td>30.340000</td>\n",
       "      <td>32.000000</td>\n",
       "      <td>772.000000</td>\n",
       "      <td>1589.250000</td>\n",
       "    </tr>\n",
       "    <tr>\n",
       "      <th>50%</th>\n",
       "      <td>38.000000</td>\n",
       "      <td>47.150000</td>\n",
       "      <td>50.000000</td>\n",
       "      <td>1276.000000</td>\n",
       "      <td>3624.000000</td>\n",
       "    </tr>\n",
       "    <tr>\n",
       "      <th>75%</th>\n",
       "      <td>49.000000</td>\n",
       "      <td>63.960000</td>\n",
       "      <td>73.000000</td>\n",
       "      <td>1751.250000</td>\n",
       "      <td>6654.000000</td>\n",
       "    </tr>\n",
       "    <tr>\n",
       "      <th>max</th>\n",
       "      <td>72.000000</td>\n",
       "      <td>112.340000</td>\n",
       "      <td>99.000000</td>\n",
       "      <td>6847.000000</td>\n",
       "      <td>11086.000000</td>\n",
       "    </tr>\n",
       "  </tbody>\n",
       "</table>\n",
       "</div>"
      ],
      "text/plain": [
       "               age  remuneration  spending_score  loyalty_points       product\n",
       "count  2000.000000   2000.000000     2000.000000     2000.000000   2000.000000\n",
       "mean     39.495000     48.079060       50.000000     1578.032000   4320.521500\n",
       "std      13.573212     23.123984       26.094702     1283.239705   3148.938839\n",
       "min      17.000000     12.300000        1.000000       25.000000    107.000000\n",
       "25%      29.000000     30.340000       32.000000      772.000000   1589.250000\n",
       "50%      38.000000     47.150000       50.000000     1276.000000   3624.000000\n",
       "75%      49.000000     63.960000       73.000000     1751.250000   6654.000000\n",
       "max      72.000000    112.340000       99.000000     6847.000000  11086.000000"
      ]
     },
     "execution_count": 9,
     "metadata": {},
     "output_type": "execute_result"
    }
   ],
   "source": [
    "# View the DataFrame.\n",
    "print(reviews.head())\n",
    "print(reviews.info())\n",
    "reviews.describe()"
   ]
  },
  {
   "cell_type": "markdown",
   "id": "7d73c26c",
   "metadata": {},
   "source": [
    "7) Use linear regression or multiple linear regression and the statsmodels functions to evaluate possible linear relationships between loyalty points and age/remuneration/spending scores to determine whether these can be used to predict the loyalty points.\n",
    "\n",
    "    a.Specify the independent and dependent variables.\n",
    "    \n",
    "    b.Create the OLS model.\n",
    "    \n",
    "    c.Extract the estimated parameters,\n",
    "    standard errors,and  predicted values.\n",
    "    \n",
    "    d.Generate the regression table based \n",
    "    on the X coefficient and constant values.\n",
    "   \n",
    "    e. Plot the linear regression and add a regression line."
   ]
  },
  {
   "cell_type": "code",
   "execution_count": 10,
   "id": "0d629e3e",
   "metadata": {},
   "outputs": [
    {
     "data": {
      "text/plain": [
       "LinearRegression()"
      ]
     },
     "execution_count": 10,
     "metadata": {},
     "output_type": "execute_result"
    }
   ],
   "source": [
    "# Define the dependent variable.\n",
    "y = reviews['age']  \n",
    "\n",
    "# Define the independent variable.\n",
    "X = reviews[['remuneration', 'product']] \n",
    "\n",
    "# Fit the regression model.\n",
    "mlr = linear_model.LinearRegression()\n",
    "mlr.fit(X, y) "
   ]
  },
  {
   "cell_type": "code",
   "execution_count": 11,
   "id": "78331f92",
   "metadata": {},
   "outputs": [
    {
     "data": {
      "text/plain": [
       "array([39.5603069 , 39.560605  , 39.55221435, ..., 39.22725589,\n",
       "       39.20298662, 39.21443746])"
      ]
     },
     "execution_count": 11,
     "metadata": {},
     "output_type": "execute_result"
    }
   ],
   "source": [
    "# Call the predictions for X (array).\n",
    "mlr.predict(X) "
   ]
  },
  {
   "cell_type": "code",
   "execution_count": 12,
   "id": "74a12cdc",
   "metadata": {},
   "outputs": [
    {
     "name": "stdout",
     "output_type": "stream",
     "text": [
      "R-squared:  5.824792128927836e-05\n",
      "Intercept:  39.6028583516846\n",
      "Coefficients:\n"
     ]
    },
    {
     "data": {
      "text/plain": [
       "[('remuneration', -0.0043039999929897835), ('product', 2.2931010114947682e-05)]"
      ]
     },
     "execution_count": 12,
     "metadata": {},
     "output_type": "execute_result"
    }
   ],
   "source": [
    "# Print the R-squared value.\n",
    "print(\"R-squared: \", mlr.score(X,y))  \n",
    "\n",
    "# Print the intercept.\n",
    "print(\"Intercept: \", mlr.intercept_) \n",
    "\n",
    "# Print the coefficients.\n",
    "print(\"Coefficients:\")  \n",
    "\n",
    "# Map a similar index of multiple containers (to be used as a single entity).\n",
    "list(zip(X, mlr.coef_)) "
   ]
  },
  {
   "cell_type": "code",
   "execution_count": 13,
   "id": "f393783b",
   "metadata": {},
   "outputs": [
    {
     "name": "stdout",
     "output_type": "stream",
     "text": [
      "Predicted Value: \n",
      " [39.5784589]\n"
     ]
    }
   ],
   "source": [
    "# Make predictions.\n",
    "New_Value1 = 5.75\n",
    "New_Value2 = 15.2\n",
    "print ('Predicted Value: \\n', mlr.predict([[New_Value1 ,New_Value2]]))  "
   ]
  },
  {
   "cell_type": "code",
   "execution_count": 14,
   "id": "772a25f8",
   "metadata": {
    "scrolled": false
   },
   "outputs": [
    {
     "data": {
      "text/html": [
       "<div>\n",
       "<style scoped>\n",
       "    .dataframe tbody tr th:only-of-type {\n",
       "        vertical-align: middle;\n",
       "    }\n",
       "\n",
       "    .dataframe tbody tr th {\n",
       "        vertical-align: top;\n",
       "    }\n",
       "\n",
       "    .dataframe thead th {\n",
       "        text-align: right;\n",
       "    }\n",
       "</style>\n",
       "<table border=\"1\" class=\"dataframe\">\n",
       "  <thead>\n",
       "    <tr style=\"text-align: right;\">\n",
       "      <th></th>\n",
       "      <th>gender</th>\n",
       "      <th>age</th>\n",
       "      <th>remuneration</th>\n",
       "      <th>spending_score</th>\n",
       "      <th>loyalty_points</th>\n",
       "      <th>education</th>\n",
       "      <th>product</th>\n",
       "      <th>review</th>\n",
       "      <th>summary</th>\n",
       "    </tr>\n",
       "  </thead>\n",
       "  <tbody>\n",
       "    <tr>\n",
       "      <th>0</th>\n",
       "      <td>Male</td>\n",
       "      <td>18</td>\n",
       "      <td>12.30</td>\n",
       "      <td>39</td>\n",
       "      <td>210</td>\n",
       "      <td>graduate</td>\n",
       "      <td>453</td>\n",
       "      <td>When it comes to a DM's screen, the space on t...</td>\n",
       "      <td>The fact that 50% of this space is wasted on a...</td>\n",
       "    </tr>\n",
       "    <tr>\n",
       "      <th>1</th>\n",
       "      <td>Male</td>\n",
       "      <td>23</td>\n",
       "      <td>12.30</td>\n",
       "      <td>81</td>\n",
       "      <td>524</td>\n",
       "      <td>graduate</td>\n",
       "      <td>466</td>\n",
       "      <td>An Open Letter to GaleForce9*:\\n\\nYour unpaint...</td>\n",
       "      <td>Another worthless Dungeon Master's screen from...</td>\n",
       "    </tr>\n",
       "    <tr>\n",
       "      <th>2</th>\n",
       "      <td>Female</td>\n",
       "      <td>22</td>\n",
       "      <td>13.12</td>\n",
       "      <td>6</td>\n",
       "      <td>40</td>\n",
       "      <td>graduate</td>\n",
       "      <td>254</td>\n",
       "      <td>Nice art, nice printing.  Why two panels are f...</td>\n",
       "      <td>pretty, but also pretty useless</td>\n",
       "    </tr>\n",
       "    <tr>\n",
       "      <th>3</th>\n",
       "      <td>Female</td>\n",
       "      <td>25</td>\n",
       "      <td>13.12</td>\n",
       "      <td>77</td>\n",
       "      <td>562</td>\n",
       "      <td>graduate</td>\n",
       "      <td>263</td>\n",
       "      <td>Amazing buy! Bought it as a gift for our new d...</td>\n",
       "      <td>Five Stars</td>\n",
       "    </tr>\n",
       "    <tr>\n",
       "      <th>4</th>\n",
       "      <td>Female</td>\n",
       "      <td>33</td>\n",
       "      <td>13.94</td>\n",
       "      <td>40</td>\n",
       "      <td>366</td>\n",
       "      <td>graduate</td>\n",
       "      <td>291</td>\n",
       "      <td>As my review of GF9's previous screens these w...</td>\n",
       "      <td>Money trap</td>\n",
       "    </tr>\n",
       "  </tbody>\n",
       "</table>\n",
       "</div>"
      ],
      "text/plain": [
       "   gender  age  remuneration  spending_score  loyalty_points education  \\\n",
       "0    Male   18         12.30              39             210  graduate   \n",
       "1    Male   23         12.30              81             524  graduate   \n",
       "2  Female   22         13.12               6              40  graduate   \n",
       "3  Female   25         13.12              77             562  graduate   \n",
       "4  Female   33         13.94              40             366  graduate   \n",
       "\n",
       "   product                                             review  \\\n",
       "0      453  When it comes to a DM's screen, the space on t...   \n",
       "1      466  An Open Letter to GaleForce9*:\\n\\nYour unpaint...   \n",
       "2      254  Nice art, nice printing.  Why two panels are f...   \n",
       "3      263  Amazing buy! Bought it as a gift for our new d...   \n",
       "4      291  As my review of GF9's previous screens these w...   \n",
       "\n",
       "                                             summary  \n",
       "0  The fact that 50% of this space is wasted on a...  \n",
       "1  Another worthless Dungeon Master's screen from...  \n",
       "2                    pretty, but also pretty useless  \n",
       "3                                         Five Stars  \n",
       "4                                         Money trap  "
      ]
     },
     "execution_count": 14,
     "metadata": {},
     "output_type": "execute_result"
    }
   ],
   "source": [
    "# Load the CSV file (house_price.csv).\n",
    "reviews = pd.read_csv('turtle_reviews_clean.csv')  \n",
    "\n",
    "# Print the DataFrame.\n",
    "reviews.head() "
   ]
  },
  {
   "cell_type": "code",
   "execution_count": 15,
   "id": "b5ea9713",
   "metadata": {},
   "outputs": [],
   "source": [
    "# Split the data into training = 0.7 and testing = 0.3 subsets.\n",
    "x_train, x_test, y_train, y_test = train_test_split(X, y,\n",
    "                                                    test_size=0.3,\n",
    "                                                    random_state=42)"
   ]
  },
  {
   "cell_type": "code",
   "execution_count": 16,
   "id": "e89ae16d",
   "metadata": {},
   "outputs": [
    {
     "data": {
      "text/plain": [
       "array([39.41637733, 39.6872069 , 39.74775468, 39.52333793, 39.74350938,\n",
       "       39.59858466, 39.7514923 , 39.34190268, 39.5716191 , 39.63193533,\n",
       "       39.47743046, 39.51199612, 39.55595784, 39.79356367, 39.8178492 ,\n",
       "       39.71386057, 39.7730899 , 39.59113407, 39.31621484, 39.29835398,\n",
       "       39.45653197, 39.40870806, 39.68975562, 39.62376041, 39.60273939,\n",
       "       39.55560814, 39.90666988, 39.75931693, 40.02258011, 39.33698085,\n",
       "       39.3406232 , 39.77523057, 39.77075459, 39.52979162, 39.62072512,\n",
       "       39.46356457, 39.46273357, 39.44994872, 39.61989441, 39.47005021,\n",
       "       39.67005187, 39.52295863, 39.46397993, 39.79385122, 40.05880982,\n",
       "       39.33512802, 39.77098527, 39.53749314, 39.68302989, 39.46241406,\n",
       "       39.84816721, 39.39551078, 39.63692808, 39.26713989, 39.5317406 ,\n",
       "       39.50235588, 39.34963029, 39.75573321, 39.93916198, 39.89494817,\n",
       "       39.49516118, 39.42256868, 39.38598722, 39.54062428, 39.79997955,\n",
       "       39.53178484, 39.95564751, 39.88251888, 39.52848166, 39.49586204,\n",
       "       39.39643647, 39.75653344, 39.80835056, 39.37681892, 39.73877486,\n",
       "       39.75705284, 39.40103586, 39.94970474, 39.68825863, 39.35318147,\n",
       "       39.67750276, 39.54963839, 39.42247283, 39.85455729, 39.74499904,\n",
       "       39.49580019, 39.33803258, 39.45688342, 39.42256868, 39.26538174,\n",
       "       39.85561166, 39.5898062 , 39.2607501 , 39.54877104, 39.29222096,\n",
       "       39.43308651, 39.46455503, 39.41452333, 39.62960031, 39.57391953,\n",
       "       39.64257598, 39.76151331, 39.33771571, 39.68678891, 39.33851213,\n",
       "       39.43630736, 39.25959842, 39.47781387, 39.21761705, 39.62222006,\n",
       "       39.81235402, 39.52286102, 39.44228677, 39.30065294, 39.88948495,\n",
       "       39.85570751, 39.52573421, 39.79411034, 39.68548158, 39.43046395,\n",
       "       39.38727109, 39.36365798, 39.6289657 , 39.65529371, 40.02034358,\n",
       "       39.77030728, 39.5716191 , 39.63724261, 39.77806362, 39.9360663 ,\n",
       "       39.41538862, 39.30429968, 39.76832928, 39.59135772, 39.24394507,\n",
       "       39.33704592, 39.27244249, 39.40404184, 40.05740605, 39.69174122,\n",
       "       39.54068642, 39.55659802, 39.42592845, 39.67203953, 40.01657343,\n",
       "       39.57793855, 39.35851133, 39.41257055, 39.35260343, 39.65094641,\n",
       "       40.00104846, 39.68845297, 39.26432796, 39.90574331, 39.77098527,\n",
       "       39.83734334, 39.68781396, 39.59090602, 39.75653344, 39.26956812,\n",
       "       39.68517056, 39.38100735, 39.47192943, 39.80452676, 39.33244799,\n",
       "       39.58091696, 39.58891159, 39.46605758, 39.26151691, 39.81096874,\n",
       "       39.55790681, 39.48656535, 39.65622086, 39.41283405, 39.26151691,\n",
       "       39.58324261, 39.78835604, 39.88466073, 39.42256868, 39.47548617,\n",
       "       39.51551242, 39.75273104, 39.34183966, 39.88863696, 39.21212187,\n",
       "       39.53672457, 39.23365586, 39.49187615, 39.72189773, 39.37960299,\n",
       "       39.22848107, 39.6839884 , 39.70004482, 39.34611838, 39.39662905,\n",
       "       39.39359171, 39.52678858, 39.371611  , 39.54848349, 39.84848818,\n",
       "       39.30346897, 39.59046311, 39.77075459, 39.65356634, 39.22311223,\n",
       "       39.30234514, 39.48832409, 39.65973101, 39.67539432, 39.26375168,\n",
       "       39.81007413, 39.39359171, 39.64136392, 39.81634314, 39.56592783,\n",
       "       39.30957004, 39.75110918, 39.68781396, 39.25119634, 39.33400654,\n",
       "       39.8275671 , 40.09401742, 39.82692165, 39.74625272, 39.30909078,\n",
       "       39.73558802, 39.35260343, 39.56174233, 39.47701979, 40.06005589,\n",
       "       39.76015671, 39.2808135 , 39.66039787, 39.70845422, 39.31097351,\n",
       "       39.62222006, 39.28905553, 39.64574112, 39.63880203, 39.68548158,\n",
       "       39.76273826, 40.02948432, 39.84440409, 39.52972772, 39.807424  ,\n",
       "       39.54078198, 39.35787642, 39.7592621 , 39.22921505, 39.54730045,\n",
       "       39.22921563, 39.65522922, 39.52333793, 39.45771413, 39.49554225,\n",
       "       39.54826159, 39.69206073, 39.27742705, 39.52625537, 39.40276118,\n",
       "       39.45653197, 39.65756805, 39.36260391, 40.01587403, 39.40778179,\n",
       "       39.81634314, 39.78072575, 39.90597048, 39.20649918, 39.54471832,\n",
       "       39.7842702 , 39.50379687, 39.65673148, 39.51551418, 39.49779049,\n",
       "       39.4877903 , 39.26180447, 39.36285951, 39.50975989, 39.27346519,\n",
       "       39.57340832, 39.58692335, 39.3361179 , 39.67464483, 39.62347052,\n",
       "       39.38170645, 39.55560814, 39.43302759, 39.69063379, 39.90593853,\n",
       "       39.62072512, 39.50257104, 39.46413412, 39.41860976, 39.96162165,\n",
       "       39.54273095, 39.44043335, 39.36391798, 39.29378361, 39.27052429,\n",
       "       39.85011648, 39.71386057, 39.43525622, 39.79461188, 39.75103826,\n",
       "       39.58689257, 39.72790909, 39.80558639, 39.60023935, 39.34321089,\n",
       "       39.54912279, 39.48596064, 39.33506383, 39.80065988, 39.51551242,\n",
       "       39.54078198, 39.81973427, 40.05829862, 39.21991748, 39.49711045,\n",
       "       39.44004995, 39.79637706, 39.68809888, 39.56560833, 39.8051605 ,\n",
       "       39.68813346, 39.61037524, 39.25525492, 39.49203092, 39.88919739,\n",
       "       39.31601904, 39.85570751, 39.67704404, 39.59113407, 39.61621368,\n",
       "       39.4465391 , 39.6826037 , 39.79356367, 39.5582908 , 39.93871438,\n",
       "       39.55698259, 39.56257304, 39.35263626, 39.31653142, 39.61659708,\n",
       "       39.4128282 , 39.77986309, 39.58014957, 39.87057001, 39.76088016,\n",
       "       39.8178492 , 39.48656535, 39.73646419, 39.46308502, 39.66449279,\n",
       "       39.87052108, 39.337874  , 39.80065988, 39.74963361, 39.78317978,\n",
       "       39.42212138, 39.57915266, 39.96162165, 40.05880982, 39.38602327,\n",
       "       39.68510666, 39.43788405, 39.66449279, 39.80560107, 39.4042948 ,\n",
       "       39.68825863, 39.26662986, 39.4042948 , 39.44711421, 39.50183619,\n",
       "       39.77471176, 39.41397402, 39.95389024, 39.48289457, 39.6491267 ,\n",
       "       39.37815995, 39.63880818, 39.26375168, 39.65487074, 39.63619322,\n",
       "       39.67710852, 39.65094641, 39.56573671, 39.24570117, 39.79254184,\n",
       "       39.3098872 , 39.49043838, 39.46976266, 39.82520277, 39.83734334,\n",
       "       39.75976423, 39.51934647, 39.49551879, 39.39397541, 39.83759894,\n",
       "       39.8142391 , 39.40800398, 39.25995017, 39.65673148, 39.2808135 ,\n",
       "       39.51579998, 39.80164097, 39.93050722, 39.30880176, 39.33774503,\n",
       "       39.77471176, 39.65324508, 39.8051605 , 39.76206759, 39.6839884 ,\n",
       "       39.2914222 , 39.39004551, 39.46356457, 39.99199654, 39.289662  ,\n",
       "       39.46426748, 39.5853827 , 39.76612441, 40.02034358, 39.70180092,\n",
       "       39.33097125, 39.54691646, 39.63158563, 39.24598931, 39.58924899,\n",
       "       39.28742606, 39.76202861, 39.51202807, 39.96069509, 39.57925174,\n",
       "       39.24496543, 39.59474417, 39.94289988, 39.98068609, 39.87060196,\n",
       "       39.38535231, 40.01657343, 39.59244667, 39.25672406, 39.61244821,\n",
       "       39.82101229, 39.95440145, 39.45192935, 39.46451694, 39.41244274,\n",
       "       39.66445909, 39.7647825 , 39.20531702, 39.26707482, 39.91116522,\n",
       "       39.39269681, 39.65874026, 39.89339757, 40.01584208, 39.43573225,\n",
       "       39.57219421, 39.82101229, 39.6112297 , 39.23911938, 39.33851213,\n",
       "       39.68510666, 39.76202861, 39.7517479 , 39.44043335, 39.82791856,\n",
       "       39.44075286, 39.93097448, 39.24442286, 39.5979137 , 39.66071738,\n",
       "       39.45279289, 39.43573225, 39.23471023, 39.69066574, 39.48803654,\n",
       "       39.3953862 , 39.39726718, 39.46356457, 39.26729964, 39.70036432,\n",
       "       39.71986461, 39.6399241 , 39.52848166, 39.82520277, 39.85011648,\n",
       "       40.01564687, 39.2830808 , 39.30982681, 39.5853827 , 39.68813346,\n",
       "       39.67726827, 39.76289742, 39.2603028 , 39.48554528, 39.54877104,\n",
       "       39.49363371, 39.77855312, 39.60011155, 39.67921198, 39.46203066,\n",
       "       39.76022061, 39.50714142, 39.85561166, 39.50675801, 39.72679317,\n",
       "       39.69174122, 39.65369619, 39.89494817, 39.36212173, 39.31832533,\n",
       "       39.38890144, 39.45583316, 39.69063379, 39.8178492 , 39.40813324,\n",
       "       39.49721099, 39.77030728, 39.7596376 , 39.74056731, 39.83213572,\n",
       "       39.79960552, 39.65091446, 39.83734334, 39.44771805, 39.64456364,\n",
       "       39.54414321, 39.6040174 , 39.22311223, 39.52848166, 39.76549009,\n",
       "       39.27349685, 39.5084209 , 39.52298648, 39.57219421, 39.26688341,\n",
       "       39.98068609, 39.22793732, 39.64932396, 39.58912119, 39.75020872,\n",
       "       39.90918108, 39.57793855, 39.22464731, 39.65629003, 39.3087062 ,\n",
       "       39.6826037 , 39.34368751, 39.71312571, 39.4554439 , 39.56257304,\n",
       "       39.34218848, 39.41404817, 39.30212266, 39.55659802, 39.49174337,\n",
       "       39.54877104, 39.27959909, 39.61836079, 39.73950972, 39.25276133,\n",
       "       39.62893374, 39.73561997, 39.24020599, 39.36416919, 39.69060184,\n",
       "       39.51864356, 39.59190732, 39.65800569, 39.38078047, 39.42256868,\n",
       "       39.38100296, 39.55659802, 39.42247869, 39.48647653, 39.2521232 ,\n",
       "       39.51864356, 39.98343881, 39.35352707, 39.52851361, 39.65877016,\n",
       "       39.23397624, 39.74008688, 39.25726604, 39.46451694, 39.28742606,\n",
       "       39.27589196, 39.52972772, 39.51071986, 39.69442184, 39.31110131,\n",
       "       39.77382446, 39.84890236, 39.54771668, 39.57439235, 39.76759472])"
      ]
     },
     "execution_count": 16,
     "metadata": {},
     "output_type": "execute_result"
    }
   ],
   "source": [
    "# Run linear regression model.\n",
    "lr = LinearRegression()\n",
    "\n",
    "# Fit the model on the training data.\n",
    "lr.fit(x_train, y_train)\n",
    "\n",
    "# Predict is used for predicting on the x_test.\n",
    "y_pred = lr.predict(x_test)\n",
    "\n",
    "# View the output.\n",
    "y_pred"
   ]
  },
  {
   "cell_type": "code",
   "execution_count": 17,
   "id": "adc5e867",
   "metadata": {},
   "outputs": [
    {
     "data": {
      "text/plain": [
       "array([39.41637733, 39.6872069 , 39.74775468, 39.52333793, 39.74350938,\n",
       "       39.59858466, 39.7514923 , 39.34190268, 39.5716191 , 39.63193533,\n",
       "       39.47743046, 39.51199612, 39.55595784, 39.79356367, 39.8178492 ,\n",
       "       39.71386057, 39.7730899 , 39.59113407, 39.31621484, 39.29835398,\n",
       "       39.45653197, 39.40870806, 39.68975562, 39.62376041, 39.60273939,\n",
       "       39.55560814, 39.90666988, 39.75931693, 40.02258011, 39.33698085,\n",
       "       39.3406232 , 39.77523057, 39.77075459, 39.52979162, 39.62072512,\n",
       "       39.46356457, 39.46273357, 39.44994872, 39.61989441, 39.47005021,\n",
       "       39.67005187, 39.52295863, 39.46397993, 39.79385122, 40.05880982,\n",
       "       39.33512802, 39.77098527, 39.53749314, 39.68302989, 39.46241406,\n",
       "       39.84816721, 39.39551078, 39.63692808, 39.26713989, 39.5317406 ,\n",
       "       39.50235588, 39.34963029, 39.75573321, 39.93916198, 39.89494817,\n",
       "       39.49516118, 39.42256868, 39.38598722, 39.54062428, 39.79997955,\n",
       "       39.53178484, 39.95564751, 39.88251888, 39.52848166, 39.49586204,\n",
       "       39.39643647, 39.75653344, 39.80835056, 39.37681892, 39.73877486,\n",
       "       39.75705284, 39.40103586, 39.94970474, 39.68825863, 39.35318147,\n",
       "       39.67750276, 39.54963839, 39.42247283, 39.85455729, 39.74499904,\n",
       "       39.49580019, 39.33803258, 39.45688342, 39.42256868, 39.26538174,\n",
       "       39.85561166, 39.5898062 , 39.2607501 , 39.54877104, 39.29222096,\n",
       "       39.43308651, 39.46455503, 39.41452333, 39.62960031, 39.57391953,\n",
       "       39.64257598, 39.76151331, 39.33771571, 39.68678891, 39.33851213,\n",
       "       39.43630736, 39.25959842, 39.47781387, 39.21761705, 39.62222006,\n",
       "       39.81235402, 39.52286102, 39.44228677, 39.30065294, 39.88948495,\n",
       "       39.85570751, 39.52573421, 39.79411034, 39.68548158, 39.43046395,\n",
       "       39.38727109, 39.36365798, 39.6289657 , 39.65529371, 40.02034358,\n",
       "       39.77030728, 39.5716191 , 39.63724261, 39.77806362, 39.9360663 ,\n",
       "       39.41538862, 39.30429968, 39.76832928, 39.59135772, 39.24394507,\n",
       "       39.33704592, 39.27244249, 39.40404184, 40.05740605, 39.69174122,\n",
       "       39.54068642, 39.55659802, 39.42592845, 39.67203953, 40.01657343,\n",
       "       39.57793855, 39.35851133, 39.41257055, 39.35260343, 39.65094641,\n",
       "       40.00104846, 39.68845297, 39.26432796, 39.90574331, 39.77098527,\n",
       "       39.83734334, 39.68781396, 39.59090602, 39.75653344, 39.26956812,\n",
       "       39.68517056, 39.38100735, 39.47192943, 39.80452676, 39.33244799,\n",
       "       39.58091696, 39.58891159, 39.46605758, 39.26151691, 39.81096874,\n",
       "       39.55790681, 39.48656535, 39.65622086, 39.41283405, 39.26151691,\n",
       "       39.58324261, 39.78835604, 39.88466073, 39.42256868, 39.47548617,\n",
       "       39.51551242, 39.75273104, 39.34183966, 39.88863696, 39.21212187,\n",
       "       39.53672457, 39.23365586, 39.49187615, 39.72189773, 39.37960299,\n",
       "       39.22848107, 39.6839884 , 39.70004482, 39.34611838, 39.39662905,\n",
       "       39.39359171, 39.52678858, 39.371611  , 39.54848349, 39.84848818,\n",
       "       39.30346897, 39.59046311, 39.77075459, 39.65356634, 39.22311223,\n",
       "       39.30234514, 39.48832409, 39.65973101, 39.67539432, 39.26375168,\n",
       "       39.81007413, 39.39359171, 39.64136392, 39.81634314, 39.56592783,\n",
       "       39.30957004, 39.75110918, 39.68781396, 39.25119634, 39.33400654,\n",
       "       39.8275671 , 40.09401742, 39.82692165, 39.74625272, 39.30909078,\n",
       "       39.73558802, 39.35260343, 39.56174233, 39.47701979, 40.06005589,\n",
       "       39.76015671, 39.2808135 , 39.66039787, 39.70845422, 39.31097351,\n",
       "       39.62222006, 39.28905553, 39.64574112, 39.63880203, 39.68548158,\n",
       "       39.76273826, 40.02948432, 39.84440409, 39.52972772, 39.807424  ,\n",
       "       39.54078198, 39.35787642, 39.7592621 , 39.22921505, 39.54730045,\n",
       "       39.22921563, 39.65522922, 39.52333793, 39.45771413, 39.49554225,\n",
       "       39.54826159, 39.69206073, 39.27742705, 39.52625537, 39.40276118,\n",
       "       39.45653197, 39.65756805, 39.36260391, 40.01587403, 39.40778179,\n",
       "       39.81634314, 39.78072575, 39.90597048, 39.20649918, 39.54471832,\n",
       "       39.7842702 , 39.50379687, 39.65673148, 39.51551418, 39.49779049,\n",
       "       39.4877903 , 39.26180447, 39.36285951, 39.50975989, 39.27346519,\n",
       "       39.57340832, 39.58692335, 39.3361179 , 39.67464483, 39.62347052,\n",
       "       39.38170645, 39.55560814, 39.43302759, 39.69063379, 39.90593853,\n",
       "       39.62072512, 39.50257104, 39.46413412, 39.41860976, 39.96162165,\n",
       "       39.54273095, 39.44043335, 39.36391798, 39.29378361, 39.27052429,\n",
       "       39.85011648, 39.71386057, 39.43525622, 39.79461188, 39.75103826,\n",
       "       39.58689257, 39.72790909, 39.80558639, 39.60023935, 39.34321089,\n",
       "       39.54912279, 39.48596064, 39.33506383, 39.80065988, 39.51551242,\n",
       "       39.54078198, 39.81973427, 40.05829862, 39.21991748, 39.49711045,\n",
       "       39.44004995, 39.79637706, 39.68809888, 39.56560833, 39.8051605 ,\n",
       "       39.68813346, 39.61037524, 39.25525492, 39.49203092, 39.88919739,\n",
       "       39.31601904, 39.85570751, 39.67704404, 39.59113407, 39.61621368,\n",
       "       39.4465391 , 39.6826037 , 39.79356367, 39.5582908 , 39.93871438,\n",
       "       39.55698259, 39.56257304, 39.35263626, 39.31653142, 39.61659708,\n",
       "       39.4128282 , 39.77986309, 39.58014957, 39.87057001, 39.76088016,\n",
       "       39.8178492 , 39.48656535, 39.73646419, 39.46308502, 39.66449279,\n",
       "       39.87052108, 39.337874  , 39.80065988, 39.74963361, 39.78317978,\n",
       "       39.42212138, 39.57915266, 39.96162165, 40.05880982, 39.38602327,\n",
       "       39.68510666, 39.43788405, 39.66449279, 39.80560107, 39.4042948 ,\n",
       "       39.68825863, 39.26662986, 39.4042948 , 39.44711421, 39.50183619,\n",
       "       39.77471176, 39.41397402, 39.95389024, 39.48289457, 39.6491267 ,\n",
       "       39.37815995, 39.63880818, 39.26375168, 39.65487074, 39.63619322,\n",
       "       39.67710852, 39.65094641, 39.56573671, 39.24570117, 39.79254184,\n",
       "       39.3098872 , 39.49043838, 39.46976266, 39.82520277, 39.83734334,\n",
       "       39.75976423, 39.51934647, 39.49551879, 39.39397541, 39.83759894,\n",
       "       39.8142391 , 39.40800398, 39.25995017, 39.65673148, 39.2808135 ,\n",
       "       39.51579998, 39.80164097, 39.93050722, 39.30880176, 39.33774503,\n",
       "       39.77471176, 39.65324508, 39.8051605 , 39.76206759, 39.6839884 ,\n",
       "       39.2914222 , 39.39004551, 39.46356457, 39.99199654, 39.289662  ,\n",
       "       39.46426748, 39.5853827 , 39.76612441, 40.02034358, 39.70180092,\n",
       "       39.33097125, 39.54691646, 39.63158563, 39.24598931, 39.58924899,\n",
       "       39.28742606, 39.76202861, 39.51202807, 39.96069509, 39.57925174,\n",
       "       39.24496543, 39.59474417, 39.94289988, 39.98068609, 39.87060196,\n",
       "       39.38535231, 40.01657343, 39.59244667, 39.25672406, 39.61244821,\n",
       "       39.82101229, 39.95440145, 39.45192935, 39.46451694, 39.41244274,\n",
       "       39.66445909, 39.7647825 , 39.20531702, 39.26707482, 39.91116522,\n",
       "       39.39269681, 39.65874026, 39.89339757, 40.01584208, 39.43573225,\n",
       "       39.57219421, 39.82101229, 39.6112297 , 39.23911938, 39.33851213,\n",
       "       39.68510666, 39.76202861, 39.7517479 , 39.44043335, 39.82791856,\n",
       "       39.44075286, 39.93097448, 39.24442286, 39.5979137 , 39.66071738,\n",
       "       39.45279289, 39.43573225, 39.23471023, 39.69066574, 39.48803654,\n",
       "       39.3953862 , 39.39726718, 39.46356457, 39.26729964, 39.70036432,\n",
       "       39.71986461, 39.6399241 , 39.52848166, 39.82520277, 39.85011648,\n",
       "       40.01564687, 39.2830808 , 39.30982681, 39.5853827 , 39.68813346,\n",
       "       39.67726827, 39.76289742, 39.2603028 , 39.48554528, 39.54877104,\n",
       "       39.49363371, 39.77855312, 39.60011155, 39.67921198, 39.46203066,\n",
       "       39.76022061, 39.50714142, 39.85561166, 39.50675801, 39.72679317,\n",
       "       39.69174122, 39.65369619, 39.89494817, 39.36212173, 39.31832533,\n",
       "       39.38890144, 39.45583316, 39.69063379, 39.8178492 , 39.40813324,\n",
       "       39.49721099, 39.77030728, 39.7596376 , 39.74056731, 39.83213572,\n",
       "       39.79960552, 39.65091446, 39.83734334, 39.44771805, 39.64456364,\n",
       "       39.54414321, 39.6040174 , 39.22311223, 39.52848166, 39.76549009,\n",
       "       39.27349685, 39.5084209 , 39.52298648, 39.57219421, 39.26688341,\n",
       "       39.98068609, 39.22793732, 39.64932396, 39.58912119, 39.75020872,\n",
       "       39.90918108, 39.57793855, 39.22464731, 39.65629003, 39.3087062 ,\n",
       "       39.6826037 , 39.34368751, 39.71312571, 39.4554439 , 39.56257304,\n",
       "       39.34218848, 39.41404817, 39.30212266, 39.55659802, 39.49174337,\n",
       "       39.54877104, 39.27959909, 39.61836079, 39.73950972, 39.25276133,\n",
       "       39.62893374, 39.73561997, 39.24020599, 39.36416919, 39.69060184,\n",
       "       39.51864356, 39.59190732, 39.65800569, 39.38078047, 39.42256868,\n",
       "       39.38100296, 39.55659802, 39.42247869, 39.48647653, 39.2521232 ,\n",
       "       39.51864356, 39.98343881, 39.35352707, 39.52851361, 39.65877016,\n",
       "       39.23397624, 39.74008688, 39.25726604, 39.46451694, 39.28742606,\n",
       "       39.27589196, 39.52972772, 39.51071986, 39.69442184, 39.31110131,\n",
       "       39.77382446, 39.84890236, 39.54771668, 39.57439235, 39.76759472])"
      ]
     },
     "execution_count": 17,
     "metadata": {},
     "output_type": "execute_result"
    }
   ],
   "source": [
    "# Run linear regression model.\n",
    "lr = LinearRegression()\n",
    "\n",
    "# Fit the model on the training data.\n",
    "lr.fit(x_train, y_train)\n",
    "\n",
    "# Predict is used for predicting on the x_test.\n",
    "y_pred = lr.predict(x_test)\n",
    "\n",
    "# View the output.\n",
    "y_pred"
   ]
  },
  {
   "cell_type": "code",
   "execution_count": 18,
   "id": "b67d8782",
   "metadata": {},
   "outputs": [
    {
     "name": "stdout",
     "output_type": "stream",
     "text": [
      "R-squared value:  -0.0020031367923718513\n",
      "Intercept value:  39.10927877166406\n",
      "Coefficient value:  [6.70143628e-03 3.19504099e-05]\n"
     ]
    }
   ],
   "source": [
    "# Print the R-squared, intercept and coefficient value.\n",
    "print(\"R-squared value: \", lr.score(x_test, y_test))\n",
    "\n",
    "print(\"Intercept value: \", lr.intercept_)\n",
    "print(\"Coefficient value: \", lr.coef_)"
   ]
  },
  {
   "cell_type": "markdown",
   "id": "3cb8120c",
   "metadata": {},
   "source": [
    "## Assignment Activity 2: Make predictions with clustering\n",
    "\n",
    "1) Launch the Jupyter Notebook you completed for Assignment activity 1: Make predictions with regression.\n",
    "\n",
    "2) Import the necessary libraries and prepare the data for clustering. \n",
    "    \n",
    "    a.Import the CSV file you prepared in Module 1.\n",
    "    \n",
    "    b.Create a new DataFrame (e.g. df2) containing the remuneration and spending_score columns.\n",
    "    \n",
    "    c.Explore the new DataFrame."
   ]
  },
  {
   "cell_type": "code",
   "execution_count": 19,
   "id": "eee745d0",
   "metadata": {},
   "outputs": [
    {
     "name": "stdout",
     "output_type": "stream",
     "text": [
      "<class 'pandas.core.frame.DataFrame'>\n",
      "RangeIndex: 2000 entries, 0 to 1999\n",
      "Data columns (total 9 columns):\n",
      " #   Column          Non-Null Count  Dtype  \n",
      "---  ------          --------------  -----  \n",
      " 0   gender          2000 non-null   object \n",
      " 1   age             2000 non-null   int64  \n",
      " 2   remuneration    2000 non-null   float64\n",
      " 3   spending_score  2000 non-null   int64  \n",
      " 4   loyalty_points  2000 non-null   int64  \n",
      " 5   education       2000 non-null   object \n",
      " 6   product         2000 non-null   int64  \n",
      " 7   review          2000 non-null   object \n",
      " 8   summary         2000 non-null   object \n",
      "dtypes: float64(1), int64(4), object(4)\n",
      "memory usage: 140.8+ KB\n"
     ]
    }
   ],
   "source": [
    "# Import libraries.\n",
    "import pandas as pd\n",
    "import numpy as np\n",
    "\n",
    "import warnings\n",
    "warnings.filterwarnings('ignore')\n",
    "\n",
    "# Load the data.\n",
    "df = pd.read_csv('turtle_reviews_clean.csv')\n",
    "\n",
    "# View the DataFrame.\n",
    "df.info()"
   ]
  },
  {
   "cell_type": "code",
   "execution_count": 20,
   "id": "0e9df84a",
   "metadata": {},
   "outputs": [],
   "source": [
    "df2 = df[['remuneration', 'spending_score']]"
   ]
  },
  {
   "cell_type": "code",
   "execution_count": 21,
   "id": "491ea4e3",
   "metadata": {},
   "outputs": [
    {
     "name": "stdout",
     "output_type": "stream",
     "text": [
      "<class 'pandas.core.frame.DataFrame'>\n",
      "RangeIndex: 2000 entries, 0 to 1999\n",
      "Data columns (total 2 columns):\n",
      " #   Column          Non-Null Count  Dtype  \n",
      "---  ------          --------------  -----  \n",
      " 0   remuneration    2000 non-null   float64\n",
      " 1   spending_score  2000 non-null   int64  \n",
      "dtypes: float64(1), int64(1)\n",
      "memory usage: 31.4 KB\n"
     ]
    }
   ],
   "source": [
    "df2.info()"
   ]
  },
  {
   "cell_type": "code",
   "execution_count": 22,
   "id": "2830e3c9",
   "metadata": {},
   "outputs": [
    {
     "name": "stdout",
     "output_type": "stream",
     "text": [
      "Index(['remuneration', 'spending_score'], dtype='object')\n"
     ]
    }
   ],
   "source": [
    "print(df2.columns)"
   ]
  },
  {
   "cell_type": "code",
   "execution_count": 23,
   "id": "09b42a32",
   "metadata": {
    "scrolled": true
   },
   "outputs": [
    {
     "data": {
      "text/html": [
       "<div>\n",
       "<style scoped>\n",
       "    .dataframe tbody tr th:only-of-type {\n",
       "        vertical-align: middle;\n",
       "    }\n",
       "\n",
       "    .dataframe tbody tr th {\n",
       "        vertical-align: top;\n",
       "    }\n",
       "\n",
       "    .dataframe thead th {\n",
       "        text-align: right;\n",
       "    }\n",
       "</style>\n",
       "<table border=\"1\" class=\"dataframe\">\n",
       "  <thead>\n",
       "    <tr style=\"text-align: right;\">\n",
       "      <th></th>\n",
       "      <th>remuneration</th>\n",
       "      <th>spending_score</th>\n",
       "    </tr>\n",
       "  </thead>\n",
       "  <tbody>\n",
       "    <tr>\n",
       "      <th>0</th>\n",
       "      <td>12.30</td>\n",
       "      <td>39</td>\n",
       "    </tr>\n",
       "    <tr>\n",
       "      <th>1</th>\n",
       "      <td>12.30</td>\n",
       "      <td>81</td>\n",
       "    </tr>\n",
       "    <tr>\n",
       "      <th>2</th>\n",
       "      <td>13.12</td>\n",
       "      <td>6</td>\n",
       "    </tr>\n",
       "    <tr>\n",
       "      <th>3</th>\n",
       "      <td>13.12</td>\n",
       "      <td>77</td>\n",
       "    </tr>\n",
       "    <tr>\n",
       "      <th>4</th>\n",
       "      <td>13.94</td>\n",
       "      <td>40</td>\n",
       "    </tr>\n",
       "  </tbody>\n",
       "</table>\n",
       "</div>"
      ],
      "text/plain": [
       "   remuneration  spending_score\n",
       "0         12.30              39\n",
       "1         12.30              81\n",
       "2         13.12               6\n",
       "3         13.12              77\n",
       "4         13.94              40"
      ]
     },
     "execution_count": 23,
     "metadata": {},
     "output_type": "execute_result"
    }
   ],
   "source": [
    "df2.head()"
   ]
  },
  {
   "cell_type": "markdown",
   "id": "fd0a7913",
   "metadata": {},
   "source": [
    "3) Plot the remuneration versus spending score to determine any correlations and possible groups (clusters). (Hint: You can use a scatterplot and pairplot.)"
   ]
  },
  {
   "cell_type": "code",
   "execution_count": 24,
   "id": "4b564f70",
   "metadata": {},
   "outputs": [
    {
     "data": {
      "text/plain": [
       "<seaborn.axisgrid.PairGrid at 0x28ce1ad7c70>"
      ]
     },
     "execution_count": 24,
     "metadata": {},
     "output_type": "execute_result"
    },
    {
     "data": {
      "image/png": "[encoded data removed]",
      "text/plain": [
       "<Figure size 435.875x360 with 4 Axes>"
      ]
     },
     "metadata": {
      "needs_background": "light"
     },
     "output_type": "display_data"
    }
   ],
   "source": [
    "# Create a pairplot with Seaborn.\n",
    "# Import Seaborn and Matplotlib.\n",
    "from matplotlib import pyplot as plt\n",
    "import seaborn as sns\n",
    "x = df2[['spending_score', 'remuneration']]\n",
    "\n",
    "sns.pairplot(df2,\n",
    "             vars=x,\n",
    "             hue='remuneration',\n",
    "             diag_kind='spending_score')"
   ]
  },
  {
   "cell_type": "markdown",
   "id": "d9433a23",
   "metadata": {},
   "source": [
    "------We have five colored clusters, but there is some overlap with the two clusters on remuneration.\n",
    "\n",
    "------The first step in k-means clustering is to select random centroids."
   ]
  },
  {
   "cell_type": "markdown",
   "id": "0b2b92b3",
   "metadata": {},
   "source": [
    "4) Use the Silhouette and Elbow methods to determine the optimal number of clusters for k-means clustering.\n",
    "\n",
    "    a.Plot both methods and explain how you determine the number of clusters to use.\n",
    "    \n",
    "    b.Add titles and legends to the plot."
   ]
  },
  {
   "cell_type": "code",
   "execution_count": 25,
   "id": "496324ba",
   "metadata": {
    "scrolled": true
   },
   "outputs": [
    {
     "data": {
      "image/png": "[encoded data removed]",
      "text/plain": [
       "<Figure size 432x288 with 1 Axes>"
      ]
     },
     "metadata": {
      "needs_background": "light"
     },
     "output_type": "display_data"
    }
   ],
   "source": [
    "# Import the KMeans class.\n",
    "from sklearn.cluster import KMeans \n",
    "\n",
    "# Elbow chart for us to decide on the number of optimal clusters.\n",
    "ss = []\n",
    "for i in range(1, 11):\n",
    "    kmeans = KMeans(n_clusters=i,\n",
    "                    init='k-means++',\n",
    "                    max_iter=300,\n",
    "                    n_init=100,\n",
    "                    random_state=0)\n",
    "    kmeans.fit(x)\n",
    "    ss.append(kmeans.inertia_)\n",
    "\n",
    "# Plot the elbow method.\n",
    "plt.plot(range(1, 11),\n",
    "         ss,\n",
    "         marker='o')\n",
    "\n",
    "# Insert labels and title.\n",
    "plt.title(\"The Elbow Method\")\n",
    "plt.xlabel(\"Number of clusters\")\n",
    "plt.ylabel(\"SS distance\")\n",
    "\n",
    "plt.show()"
   ]
  },
  {
   "cell_type": "markdown",
   "id": "c23a3c5b",
   "metadata": {},
   "source": [
    "5) Evaluate the usefulness of at least three values for *k* based on insights from the Elbow and Silhouette methods.\n",
    "\n",
    "    a.Plot the predicted k-means.\n",
    "\n",
    "    b.Explain which value might give you the best clustering."
   ]
  },
  {
   "cell_type": "code",
   "execution_count": 26,
   "id": "d1c1c1a2",
   "metadata": {},
   "outputs": [
    {
     "data": {
      "image/png": "[encoded data removed]",
      "text/plain": [
       "<Figure size 432x288 with 1 Axes>"
      ]
     },
     "metadata": {
      "needs_background": "light"
     },
     "output_type": "display_data"
    }
   ],
   "source": [
    "# Import silhouette_score class from sklearn.\n",
    "from sklearn.metrics import silhouette_score\n",
    "\n",
    "# Find the range of clusters to be used using silhouette method.\n",
    "sil = []\n",
    "kmax = 100\n",
    "\n",
    "for k in range(2, kmax+1):\n",
    "    kmeans_s = KMeans(n_clusters=k).fit(x)\n",
    "    labels = kmeans_s.labels_\n",
    "    sil.append(silhouette_score(x,\n",
    "                                labels,\n",
    "                                metric='euclidean'))\n",
    "\n",
    "# Plot the silhouette method.\n",
    "plt.plot(range(2, kmax+1),\n",
    "         sil,\n",
    "         marker='o')\n",
    "\n",
    "# Insert labels and title.\n",
    "plt.title(\"The Silhouette Method\")\n",
    "plt.xlabel(\"Number of clusters\")\n",
    "plt.ylabel(\"Sil\")\n",
    "\n",
    "plt.show()"
   ]
  },
  {
   "cell_type": "markdown",
   "id": "a624657c",
   "metadata": {},
   "source": [
    "The silhouette method is better for clustering in this exemple. Best clustering as we can see going up to 0.6, down again and moving the numbers of clustering up at 0.5."
   ]
  },
  {
   "cell_type": "code",
   "execution_count": 27,
   "id": "db2fb1e0",
   "metadata": {
    "scrolled": true
   },
   "outputs": [
    {
     "data": {
      "text/plain": [
       "<seaborn.axisgrid.PairGrid at 0x28ce2d8a0d0>"
      ]
     },
     "execution_count": 27,
     "metadata": {},
     "output_type": "execute_result"
    },
    {
     "data": {
      "image/png": "[encoded data removed]",
      "text/plain": [
       "<Figure size 459.75x360 with 6 Axes>"
      ]
     },
     "metadata": {
      "needs_background": "light"
     },
     "output_type": "display_data"
    }
   ],
   "source": [
    "# Use three clusters.\n",
    "kmeans = KMeans(n_clusters = 4, \n",
    "                max_iter = 15000,\n",
    "                init='k-means++',\n",
    "                random_state=0).fit(x)\n",
    "\n",
    "clusters = kmeans.labels_\n",
    "\n",
    "x['K-Means Predicted'] = clusters\n",
    "\n",
    "# Plot the predicted.\n",
    "sns.pairplot(x,\n",
    "             hue='K-Means Predicted',\n",
    "             diag_kind= 'kde')"
   ]
  },
  {
   "cell_type": "markdown",
   "id": "78165917",
   "metadata": {},
   "source": [
    "---We’ll need 4 random centroidsto find new centroids of the clusters."
   ]
  },
  {
   "cell_type": "markdown",
   "id": "94dffc47",
   "metadata": {},
   "source": [
    "6) Fit a final model using your selected value for k.\n",
    "\n",
    "    a.Justify your selection and comment on the \n",
    "    respective cluster sizes of your final solution.\n",
    "\n",
    "    b.Check the number of observations per predicted \n",
    "    class."
   ]
  },
  {
   "cell_type": "code",
   "execution_count": 28,
   "id": "88de0844",
   "metadata": {},
   "outputs": [
    {
     "data": {
      "text/plain": [
       "0    1013\n",
       "3     356\n",
       "2     351\n",
       "1     280\n",
       "Name: K-Means Predicted, dtype: int64"
      ]
     },
     "execution_count": 28,
     "metadata": {},
     "output_type": "execute_result"
    }
   ],
   "source": [
    "# Check the number of observations per predicted class.\n",
    "x['K-Means Predicted'].value_counts()"
   ]
  },
  {
   "cell_type": "markdown",
   "id": "04c835b3",
   "metadata": {},
   "source": [
    "Check the number of observations per predicted class: \n",
    "Spending-score there's 4 variations and plots give it 3 k-mens.\n",
    "Income and spending score there's 3 variations in plot and two just in Income. "
   ]
  },
  {
   "cell_type": "code",
   "execution_count": 29,
   "id": "70e75170",
   "metadata": {
    "scrolled": true
   },
   "outputs": [
    {
     "name": "stdout",
     "output_type": "stream",
     "text": [
      "   spending_score  remuneration  K-Means Predicted\n",
      "0              39         12.30                  1\n",
      "1              81         12.30                  0\n",
      "2               6         13.12                  1\n",
      "3              77         13.12                  0\n",
      "4              40         13.94                  1\n"
     ]
    }
   ],
   "source": [
    "# View the K-Means predicted.\n",
    "print(x.head())"
   ]
  },
  {
   "cell_type": "code",
   "execution_count": 30,
   "id": "454148b9",
   "metadata": {
    "scrolled": true
   },
   "outputs": [
    {
     "data": {
      "text/plain": [
       "<AxesSubplot:xlabel='spending_score', ylabel='remuneration'>"
      ]
     },
     "execution_count": 30,
     "metadata": {},
     "output_type": "execute_result"
    },
    {
     "data": {
      "image/png": "[encoded data removed]",
      "text/plain": [
       "<Figure size 864x576 with 1 Axes>"
      ]
     },
     "metadata": {},
     "output_type": "display_data"
    }
   ],
   "source": [
    "# Visualising the clusters.\n",
    "# Set plot size.\n",
    "sns.set(rc = {'figure.figsize':(12, 8)})\n",
    "\n",
    "# Create a scatterplot.\n",
    "sns.scatterplot(x='spending_score' , \n",
    "                y ='remuneration',\n",
    "                data=x,\n",
    "                hue='K-Means Predicted',\n",
    "                )"
   ]
  },
  {
   "cell_type": "markdown",
   "id": "4c4f516f",
   "metadata": {},
   "source": [
    "\n",
    "Sumary: \n",
    " \n",
    " To begin, we first selected a number of groups to use and randomly initialize their respetive center points. \n",
    "   Base on classified points, we recompute the group center by taking the mean of all the vectors in the group. \n",
    "In this instance, the results between k-means and hierarchical clustering were pretty similar. This is not always the case. In general, the advantage of agglomerative hierarchical clustering is that it tends to produce more accurate results. The downside is that hierarchical clustering is more difficult to implement and more time/resource consuming than k-means.\n",
    "In this analyse, we can see that the clusters are more concentrate into the center. "
   ]
  },
  {
   "cell_type": "markdown",
   "id": "e1214105",
   "metadata": {},
   "source": [
    "## Assignement Activity 3: Analyse customer sentiments with reviews"
   ]
  },
  {
   "cell_type": "code",
   "execution_count": 31,
   "id": "87040813",
   "metadata": {},
   "outputs": [
    {
     "name": "stdout",
     "output_type": "stream",
     "text": [
      "Requirement already satisfied: wordcloud in c:\\users\\44794\\anaconda3\\lib\\site-packages (1.8.2.2)\n",
      "Requirement already satisfied: numpy>=1.6.1 in c:\\users\\44794\\anaconda3\\lib\\site-packages (from wordcloud) (1.21.5)\n",
      "Requirement already satisfied: pillow in c:\\users\\44794\\anaconda3\\lib\\site-packages (from wordcloud) (9.0.1)\n",
      "Requirement already satisfied: matplotlib in c:\\users\\44794\\anaconda3\\lib\\site-packages (from wordcloud) (3.5.1)\n",
      "Requirement already satisfied: kiwisolver>=1.0.1 in c:\\users\\44794\\anaconda3\\lib\\site-packages (from matplotlib->wordcloud) (1.3.2)\n",
      "Requirement already satisfied: cycler>=0.10 in c:\\users\\44794\\anaconda3\\lib\\site-packages (from matplotlib->wordcloud) (0.11.0)\n",
      "Requirement already satisfied: fonttools>=4.22.0 in c:\\users\\44794\\anaconda3\\lib\\site-packages (from matplotlib->wordcloud) (4.25.0)\n",
      "Requirement already satisfied: packaging>=20.0 in c:\\users\\44794\\anaconda3\\lib\\site-packages (from matplotlib->wordcloud) (21.3)\n",
      "Requirement already satisfied: python-dateutil>=2.7 in c:\\users\\44794\\anaconda3\\lib\\site-packages (from matplotlib->wordcloud) (2.8.2)\n",
      "Requirement already satisfied: pyparsing>=2.2.1 in c:\\users\\44794\\anaconda3\\lib\\site-packages (from matplotlib->wordcloud) (3.0.4)\n",
      "Requirement already satisfied: six>=1.5 in c:\\users\\44794\\anaconda3\\lib\\site-packages (from python-dateutil>=2.7->matplotlib->wordcloud) (1.16.0)\n",
      "Requirement already satisfied: stopwords in c:\\users\\44794\\anaconda3\\lib\\site-packages (1.0.0)\n"
     ]
    }
   ],
   "source": [
    "!pip install wordcloud\n",
    "!pip install stopwords"
   ]
  },
  {
   "cell_type": "code",
   "execution_count": 32,
   "id": "4964c5a9",
   "metadata": {},
   "outputs": [
    {
     "data": {
      "text/plain": [
       "(2000, 12)"
      ]
     },
     "execution_count": 32,
     "metadata": {},
     "output_type": "execute_result"
    }
   ],
   "source": [
    "# Import necessary libraries.\n",
    "import numpy as np\n",
    "import pandas as pd\n",
    "\n",
    "import warnings\n",
    "warnings.filterwarnings('ignore')\n",
    "\n",
    "# Import the data set.\n",
    "survey_data = pd.read_csv('reviews')\n",
    "\n",
    "# View the data.\n",
    "survey_data.shape"
   ]
  },
  {
   "cell_type": "code",
   "execution_count": 33,
   "id": "1aacbcdc",
   "metadata": {},
   "outputs": [],
   "source": [
    "df3 = df[['review', 'summary']]\n",
    "df3 = df.loc[:, ['review','summary']]"
   ]
  },
  {
   "cell_type": "code",
   "execution_count": 34,
   "id": "3bc9c1b8",
   "metadata": {},
   "outputs": [
    {
     "data": {
      "text/html": [
       "<div>\n",
       "<style scoped>\n",
       "    .dataframe tbody tr th:only-of-type {\n",
       "        vertical-align: middle;\n",
       "    }\n",
       "\n",
       "    .dataframe tbody tr th {\n",
       "        vertical-align: top;\n",
       "    }\n",
       "\n",
       "    .dataframe thead th {\n",
       "        text-align: right;\n",
       "    }\n",
       "</style>\n",
       "<table border=\"1\" class=\"dataframe\">\n",
       "  <thead>\n",
       "    <tr style=\"text-align: right;\">\n",
       "      <th></th>\n",
       "      <th>review</th>\n",
       "      <th>summary</th>\n",
       "    </tr>\n",
       "  </thead>\n",
       "  <tbody>\n",
       "    <tr>\n",
       "      <th>0</th>\n",
       "      <td>When it comes to a DM's screen, the space on t...</td>\n",
       "      <td>The fact that 50% of this space is wasted on a...</td>\n",
       "    </tr>\n",
       "    <tr>\n",
       "      <th>1</th>\n",
       "      <td>An Open Letter to GaleForce9*:\\n\\nYour unpaint...</td>\n",
       "      <td>Another worthless Dungeon Master's screen from...</td>\n",
       "    </tr>\n",
       "    <tr>\n",
       "      <th>2</th>\n",
       "      <td>Nice art, nice printing.  Why two panels are f...</td>\n",
       "      <td>pretty, but also pretty useless</td>\n",
       "    </tr>\n",
       "    <tr>\n",
       "      <th>3</th>\n",
       "      <td>Amazing buy! Bought it as a gift for our new d...</td>\n",
       "      <td>Five Stars</td>\n",
       "    </tr>\n",
       "    <tr>\n",
       "      <th>4</th>\n",
       "      <td>As my review of GF9's previous screens these w...</td>\n",
       "      <td>Money trap</td>\n",
       "    </tr>\n",
       "    <tr>\n",
       "      <th>...</th>\n",
       "      <td>...</td>\n",
       "      <td>...</td>\n",
       "    </tr>\n",
       "    <tr>\n",
       "      <th>1995</th>\n",
       "      <td>The perfect word game for mixed ages (with Mom...</td>\n",
       "      <td>The perfect word game for mixed ages (with Mom</td>\n",
       "    </tr>\n",
       "    <tr>\n",
       "      <th>1996</th>\n",
       "      <td>Great game.  Did not think I would like it whe...</td>\n",
       "      <td>Super fun</td>\n",
       "    </tr>\n",
       "    <tr>\n",
       "      <th>1997</th>\n",
       "      <td>Great game for all.........\\nKeeps the mind ni...</td>\n",
       "      <td>Great Game</td>\n",
       "    </tr>\n",
       "    <tr>\n",
       "      <th>1998</th>\n",
       "      <td>fun game!</td>\n",
       "      <td>Four Stars</td>\n",
       "    </tr>\n",
       "    <tr>\n",
       "      <th>1999</th>\n",
       "      <td>This game is fun. A lot like scrabble without ...</td>\n",
       "      <td>Love this game</td>\n",
       "    </tr>\n",
       "  </tbody>\n",
       "</table>\n",
       "<p>2000 rows × 2 columns</p>\n",
       "</div>"
      ],
      "text/plain": [
       "                                                 review  \\\n",
       "0     When it comes to a DM's screen, the space on t...   \n",
       "1     An Open Letter to GaleForce9*:\\n\\nYour unpaint...   \n",
       "2     Nice art, nice printing.  Why two panels are f...   \n",
       "3     Amazing buy! Bought it as a gift for our new d...   \n",
       "4     As my review of GF9's previous screens these w...   \n",
       "...                                                 ...   \n",
       "1995  The perfect word game for mixed ages (with Mom...   \n",
       "1996  Great game.  Did not think I would like it whe...   \n",
       "1997  Great game for all.........\\nKeeps the mind ni...   \n",
       "1998                                          fun game!   \n",
       "1999  This game is fun. A lot like scrabble without ...   \n",
       "\n",
       "                                                summary  \n",
       "0     The fact that 50% of this space is wasted on a...  \n",
       "1     Another worthless Dungeon Master's screen from...  \n",
       "2                       pretty, but also pretty useless  \n",
       "3                                            Five Stars  \n",
       "4                                            Money trap  \n",
       "...                                                 ...  \n",
       "1995     The perfect word game for mixed ages (with Mom  \n",
       "1996                                          Super fun  \n",
       "1997                                         Great Game  \n",
       "1998                                         Four Stars  \n",
       "1999                                     Love this game  \n",
       "\n",
       "[2000 rows x 2 columns]"
      ]
     },
     "execution_count": 34,
     "metadata": {},
     "output_type": "execute_result"
    }
   ],
   "source": [
    "df3"
   ]
  },
  {
   "cell_type": "code",
   "execution_count": 35,
   "id": "df1a0023",
   "metadata": {},
   "outputs": [
    {
     "data": {
      "text/html": [
       "<div>\n",
       "<style scoped>\n",
       "    .dataframe tbody tr th:only-of-type {\n",
       "        vertical-align: middle;\n",
       "    }\n",
       "\n",
       "    .dataframe tbody tr th {\n",
       "        vertical-align: top;\n",
       "    }\n",
       "\n",
       "    .dataframe thead th {\n",
       "        text-align: right;\n",
       "    }\n",
       "</style>\n",
       "<table border=\"1\" class=\"dataframe\">\n",
       "  <thead>\n",
       "    <tr style=\"text-align: right;\">\n",
       "      <th></th>\n",
       "      <th>gender</th>\n",
       "      <th>age</th>\n",
       "      <th>remuneration</th>\n",
       "      <th>spending_score</th>\n",
       "      <th>loyalty_points</th>\n",
       "      <th>education</th>\n",
       "      <th>product</th>\n",
       "      <th>review</th>\n",
       "      <th>summary</th>\n",
       "    </tr>\n",
       "  </thead>\n",
       "  <tbody>\n",
       "    <tr>\n",
       "      <th>0</th>\n",
       "      <td>Male</td>\n",
       "      <td>18.0</td>\n",
       "      <td>12.30</td>\n",
       "      <td>39.0</td>\n",
       "      <td>210.0</td>\n",
       "      <td>graduate</td>\n",
       "      <td>453.0</td>\n",
       "      <td>When it comes to a DM's screen, the space on t...</td>\n",
       "      <td>The fact that 50% of this space is wasted on a...</td>\n",
       "    </tr>\n",
       "    <tr>\n",
       "      <th>1</th>\n",
       "      <td>Male</td>\n",
       "      <td>23.0</td>\n",
       "      <td>12.30</td>\n",
       "      <td>81.0</td>\n",
       "      <td>524.0</td>\n",
       "      <td>graduate</td>\n",
       "      <td>466.0</td>\n",
       "      <td>An Open Letter to GaleForce9*:\\n\\nYour unpaint...</td>\n",
       "      <td>Another worthless Dungeon Master's screen from...</td>\n",
       "    </tr>\n",
       "    <tr>\n",
       "      <th>2</th>\n",
       "      <td>Female</td>\n",
       "      <td>22.0</td>\n",
       "      <td>13.12</td>\n",
       "      <td>6.0</td>\n",
       "      <td>40.0</td>\n",
       "      <td>graduate</td>\n",
       "      <td>254.0</td>\n",
       "      <td>Nice art, nice printing.  Why two panels are f...</td>\n",
       "      <td>pretty, but also pretty useless</td>\n",
       "    </tr>\n",
       "    <tr>\n",
       "      <th>3</th>\n",
       "      <td>Female</td>\n",
       "      <td>25.0</td>\n",
       "      <td>13.12</td>\n",
       "      <td>77.0</td>\n",
       "      <td>562.0</td>\n",
       "      <td>graduate</td>\n",
       "      <td>263.0</td>\n",
       "      <td>Amazing buy! Bought it as a gift for our new d...</td>\n",
       "      <td>Five Stars</td>\n",
       "    </tr>\n",
       "    <tr>\n",
       "      <th>4</th>\n",
       "      <td>Female</td>\n",
       "      <td>33.0</td>\n",
       "      <td>13.94</td>\n",
       "      <td>40.0</td>\n",
       "      <td>366.0</td>\n",
       "      <td>graduate</td>\n",
       "      <td>291.0</td>\n",
       "      <td>As my review of GF9's previous screens these w...</td>\n",
       "      <td>Money trap</td>\n",
       "    </tr>\n",
       "    <tr>\n",
       "      <th>...</th>\n",
       "      <td>...</td>\n",
       "      <td>...</td>\n",
       "      <td>...</td>\n",
       "      <td>...</td>\n",
       "      <td>...</td>\n",
       "      <td>...</td>\n",
       "      <td>...</td>\n",
       "      <td>...</td>\n",
       "      <td>...</td>\n",
       "    </tr>\n",
       "    <tr>\n",
       "      <th>1995</th>\n",
       "      <td>NaN</td>\n",
       "      <td>NaN</td>\n",
       "      <td>NaN</td>\n",
       "      <td>NaN</td>\n",
       "      <td>NaN</td>\n",
       "      <td>NaN</td>\n",
       "      <td>NaN</td>\n",
       "      <td>The perfect word game for mixed ages (with Mom...</td>\n",
       "      <td>The perfect word game for mixed ages (with Mom</td>\n",
       "    </tr>\n",
       "    <tr>\n",
       "      <th>1996</th>\n",
       "      <td>NaN</td>\n",
       "      <td>NaN</td>\n",
       "      <td>NaN</td>\n",
       "      <td>NaN</td>\n",
       "      <td>NaN</td>\n",
       "      <td>NaN</td>\n",
       "      <td>NaN</td>\n",
       "      <td>Great game.  Did not think I would like it whe...</td>\n",
       "      <td>Super fun</td>\n",
       "    </tr>\n",
       "    <tr>\n",
       "      <th>1997</th>\n",
       "      <td>NaN</td>\n",
       "      <td>NaN</td>\n",
       "      <td>NaN</td>\n",
       "      <td>NaN</td>\n",
       "      <td>NaN</td>\n",
       "      <td>NaN</td>\n",
       "      <td>NaN</td>\n",
       "      <td>Great game for all.........\\nKeeps the mind ni...</td>\n",
       "      <td>Great Game</td>\n",
       "    </tr>\n",
       "    <tr>\n",
       "      <th>1998</th>\n",
       "      <td>NaN</td>\n",
       "      <td>NaN</td>\n",
       "      <td>NaN</td>\n",
       "      <td>NaN</td>\n",
       "      <td>NaN</td>\n",
       "      <td>NaN</td>\n",
       "      <td>NaN</td>\n",
       "      <td>fun game!</td>\n",
       "      <td>Four Stars</td>\n",
       "    </tr>\n",
       "    <tr>\n",
       "      <th>1999</th>\n",
       "      <td>NaN</td>\n",
       "      <td>NaN</td>\n",
       "      <td>NaN</td>\n",
       "      <td>NaN</td>\n",
       "      <td>NaN</td>\n",
       "      <td>NaN</td>\n",
       "      <td>NaN</td>\n",
       "      <td>This game is fun. A lot like scrabble without ...</td>\n",
       "      <td>Love this game</td>\n",
       "    </tr>\n",
       "  </tbody>\n",
       "</table>\n",
       "<p>4000 rows × 9 columns</p>\n",
       "</div>"
      ],
      "text/plain": [
       "      gender   age  remuneration  spending_score  loyalty_points education  \\\n",
       "0       Male  18.0         12.30            39.0           210.0  graduate   \n",
       "1       Male  23.0         12.30            81.0           524.0  graduate   \n",
       "2     Female  22.0         13.12             6.0            40.0  graduate   \n",
       "3     Female  25.0         13.12            77.0           562.0  graduate   \n",
       "4     Female  33.0         13.94            40.0           366.0  graduate   \n",
       "...      ...   ...           ...             ...             ...       ...   \n",
       "1995     NaN   NaN           NaN             NaN             NaN       NaN   \n",
       "1996     NaN   NaN           NaN             NaN             NaN       NaN   \n",
       "1997     NaN   NaN           NaN             NaN             NaN       NaN   \n",
       "1998     NaN   NaN           NaN             NaN             NaN       NaN   \n",
       "1999     NaN   NaN           NaN             NaN             NaN       NaN   \n",
       "\n",
       "      product                                             review  \\\n",
       "0       453.0  When it comes to a DM's screen, the space on t...   \n",
       "1       466.0  An Open Letter to GaleForce9*:\\n\\nYour unpaint...   \n",
       "2       254.0  Nice art, nice printing.  Why two panels are f...   \n",
       "3       263.0  Amazing buy! Bought it as a gift for our new d...   \n",
       "4       291.0  As my review of GF9's previous screens these w...   \n",
       "...       ...                                                ...   \n",
       "1995      NaN  The perfect word game for mixed ages (with Mom...   \n",
       "1996      NaN  Great game.  Did not think I would like it whe...   \n",
       "1997      NaN  Great game for all.........\\nKeeps the mind ni...   \n",
       "1998      NaN                                          fun game!   \n",
       "1999      NaN  This game is fun. A lot like scrabble without ...   \n",
       "\n",
       "                                                summary  \n",
       "0     The fact that 50% of this space is wasted on a...  \n",
       "1     Another worthless Dungeon Master's screen from...  \n",
       "2                       pretty, but also pretty useless  \n",
       "3                                            Five Stars  \n",
       "4                                            Money trap  \n",
       "...                                                 ...  \n",
       "1995     The perfect word game for mixed ages (with Mom  \n",
       "1996                                          Super fun  \n",
       "1997                                         Great Game  \n",
       "1998                                         Four Stars  \n",
       "1999                                     Love this game  \n",
       "\n",
       "[4000 rows x 9 columns]"
      ]
     },
     "execution_count": 35,
     "metadata": {},
     "output_type": "execute_result"
    }
   ],
   "source": [
    "res = df.append(df3)\n",
    "res"
   ]
  },
  {
   "cell_type": "code",
   "execution_count": 36,
   "id": "9c29140c",
   "metadata": {},
   "outputs": [
    {
     "name": "stdout",
     "output_type": "stream",
     "text": [
      "Index(['review', 'summary'], dtype='object')\n"
     ]
    }
   ],
   "source": [
    "# Sense-check the DataFrame.\n",
    "print(df3.columns)"
   ]
  },
  {
   "cell_type": "code",
   "execution_count": 37,
   "id": "937b0802",
   "metadata": {},
   "outputs": [
    {
     "name": "stdout",
     "output_type": "stream",
     "text": [
      "<class 'pandas.core.frame.DataFrame'>\n",
      "RangeIndex: 2000 entries, 0 to 1999\n",
      "Data columns (total 2 columns):\n",
      " #   Column   Non-Null Count  Dtype \n",
      "---  ------   --------------  ----- \n",
      " 0   review   2000 non-null   object\n",
      " 1   summary  2000 non-null   object\n",
      "dtypes: object(2)\n",
      "memory usage: 31.4+ KB\n"
     ]
    }
   ],
   "source": [
    "df3.info()"
   ]
  },
  {
   "cell_type": "code",
   "execution_count": 38,
   "id": "a4fbd6ec",
   "metadata": {},
   "outputs": [
    {
     "data": {
      "text/html": [
       "<div>\n",
       "<style scoped>\n",
       "    .dataframe tbody tr th:only-of-type {\n",
       "        vertical-align: middle;\n",
       "    }\n",
       "\n",
       "    .dataframe tbody tr th {\n",
       "        vertical-align: top;\n",
       "    }\n",
       "\n",
       "    .dataframe thead th {\n",
       "        text-align: right;\n",
       "    }\n",
       "</style>\n",
       "<table border=\"1\" class=\"dataframe\">\n",
       "  <thead>\n",
       "    <tr style=\"text-align: right;\">\n",
       "      <th></th>\n",
       "      <th>review</th>\n",
       "      <th>summary</th>\n",
       "    </tr>\n",
       "  </thead>\n",
       "  <tbody>\n",
       "    <tr>\n",
       "      <th>0</th>\n",
       "      <td>When it comes to a DM's screen, the space on t...</td>\n",
       "      <td>The fact that 50% of this space is wasted on a...</td>\n",
       "    </tr>\n",
       "    <tr>\n",
       "      <th>1</th>\n",
       "      <td>An Open Letter to GaleForce9*:\\n\\nYour unpaint...</td>\n",
       "      <td>Another worthless Dungeon Master's screen from...</td>\n",
       "    </tr>\n",
       "    <tr>\n",
       "      <th>2</th>\n",
       "      <td>Nice art, nice printing.  Why two panels are f...</td>\n",
       "      <td>pretty, but also pretty useless</td>\n",
       "    </tr>\n",
       "    <tr>\n",
       "      <th>3</th>\n",
       "      <td>Amazing buy! Bought it as a gift for our new d...</td>\n",
       "      <td>Five Stars</td>\n",
       "    </tr>\n",
       "    <tr>\n",
       "      <th>4</th>\n",
       "      <td>As my review of GF9's previous screens these w...</td>\n",
       "      <td>Money trap</td>\n",
       "    </tr>\n",
       "  </tbody>\n",
       "</table>\n",
       "</div>"
      ],
      "text/plain": [
       "                                              review  \\\n",
       "0  When it comes to a DM's screen, the space on t...   \n",
       "1  An Open Letter to GaleForce9*:\\n\\nYour unpaint...   \n",
       "2  Nice art, nice printing.  Why two panels are f...   \n",
       "3  Amazing buy! Bought it as a gift for our new d...   \n",
       "4  As my review of GF9's previous screens these w...   \n",
       "\n",
       "                                             summary  \n",
       "0  The fact that 50% of this space is wasted on a...  \n",
       "1  Another worthless Dungeon Master's screen from...  \n",
       "2                    pretty, but also pretty useless  \n",
       "3                                         Five Stars  \n",
       "4                                         Money trap  "
      ]
     },
     "execution_count": 38,
     "metadata": {},
     "output_type": "execute_result"
    }
   ],
   "source": [
    "df3.head()"
   ]
  },
  {
   "cell_type": "code",
   "execution_count": 39,
   "id": "42d3f963",
   "metadata": {},
   "outputs": [
    {
     "data": {
      "text/plain": [
       "0       when it comes to a dm's screen, the space on t...\n",
       "1       an open letter to galeforce9*:\\n\\nyour unpaint...\n",
       "2       nice art, nice printing.  why two panels are f...\n",
       "3       amazing buy! bought it as a gift for our new d...\n",
       "4       as my review of gf9's previous screens these w...\n",
       "                              ...                        \n",
       "1995    the perfect word game for mixed ages (with mom...\n",
       "1996    great game.  did not think i would like it whe...\n",
       "1997    great game for all.........\\nkeeps the mind ni...\n",
       "1998                                            fun game!\n",
       "1999    this game is fun. a lot like scrabble without ...\n",
       "Name: review, Length: 2000, dtype: object"
      ]
     },
     "execution_count": 39,
     "metadata": {},
     "output_type": "execute_result"
    }
   ],
   "source": [
    "# Change the data to lower case a\n",
    "df3['review'].apply(lambda x: x.lower())\n"
   ]
  },
  {
   "cell_type": "code",
   "execution_count": 40,
   "id": "c60dbc74",
   "metadata": {},
   "outputs": [
    {
     "data": {
      "text/plain": [
       "0    When it comes to a DMs screen the space on the...\n",
       "1    An Open Letter to GaleForce9\\n\\nYour unpainted...\n",
       "2    Nice art nice printing  Why two panels are fil...\n",
       "3    Amazing buy Bought it as a gift for our new dm...\n",
       "4    As my review of GF9s previous screens these we...\n",
       "Name: review, dtype: object"
      ]
     },
     "execution_count": 40,
     "metadata": {},
     "output_type": "execute_result"
    }
   ],
   "source": [
    "# Replace ponctuation\n",
    "df3['review'] = df3['review'].str.replace('[^\\w\\s]','')\n",
    "\n",
    "# Preview the result.\n",
    "df3['review'].head()"
   ]
  },
  {
   "cell_type": "code",
   "execution_count": 41,
   "id": "1315c7c7",
   "metadata": {},
   "outputs": [
    {
     "data": {
      "text/plain": [
       "0       the fact that 50% of this space is wasted on a...\n",
       "1       another worthless dungeon master's screen from...\n",
       "2                         pretty, but also pretty useless\n",
       "3                                              five stars\n",
       "4                                              money trap\n",
       "                              ...                        \n",
       "1995       the perfect word game for mixed ages (with mom\n",
       "1996                                            super fun\n",
       "1997                                           great game\n",
       "1998                                           four stars\n",
       "1999                                       love this game\n",
       "Name: summary, Length: 2000, dtype: object"
      ]
     },
     "execution_count": 41,
     "metadata": {},
     "output_type": "execute_result"
    }
   ],
   "source": [
    "df3['summary'].apply(lambda x: x.lower())"
   ]
  },
  {
   "cell_type": "code",
   "execution_count": 42,
   "id": "58021c63",
   "metadata": {
    "scrolled": true
   },
   "outputs": [
    {
     "data": {
      "text/plain": [
       "0    The fact that 50 of this space is wasted on ar...\n",
       "1    Another worthless Dungeon Masters screen from ...\n",
       "2                       pretty but also pretty useless\n",
       "3                                           Five Stars\n",
       "4                                           Money trap\n",
       "Name: summary, dtype: object"
      ]
     },
     "execution_count": 42,
     "metadata": {},
     "output_type": "execute_result"
    }
   ],
   "source": [
    "# Replace ponctuation\n",
    "df3['summary'] = df3['summary'].str.replace('[^\\w\\s]','')\n",
    "\n",
    "# Preview the result.\n",
    "df3['summary'].head()"
   ]
  },
  {
   "cell_type": "code",
   "execution_count": 43,
   "id": "8cb18d71",
   "metadata": {
    "scrolled": false
   },
   "outputs": [
    {
     "data": {
      "text/html": [
       "<div>\n",
       "<style scoped>\n",
       "    .dataframe tbody tr th:only-of-type {\n",
       "        vertical-align: middle;\n",
       "    }\n",
       "\n",
       "    .dataframe tbody tr th {\n",
       "        vertical-align: top;\n",
       "    }\n",
       "\n",
       "    .dataframe thead th {\n",
       "        text-align: right;\n",
       "    }\n",
       "</style>\n",
       "<table border=\"1\" class=\"dataframe\">\n",
       "  <thead>\n",
       "    <tr style=\"text-align: right;\">\n",
       "      <th></th>\n",
       "      <th>gender</th>\n",
       "      <th>age</th>\n",
       "      <th>remuneration</th>\n",
       "      <th>spending_score</th>\n",
       "      <th>loyalty_points</th>\n",
       "      <th>education</th>\n",
       "      <th>product</th>\n",
       "      <th>review</th>\n",
       "      <th>summary</th>\n",
       "    </tr>\n",
       "  </thead>\n",
       "  <tbody>\n",
       "    <tr>\n",
       "      <th>0</th>\n",
       "      <td>Male</td>\n",
       "      <td>18.0</td>\n",
       "      <td>12.30</td>\n",
       "      <td>39.0</td>\n",
       "      <td>210.0</td>\n",
       "      <td>graduate</td>\n",
       "      <td>453.0</td>\n",
       "      <td>When it comes to a DM's screen, the space on t...</td>\n",
       "      <td>The fact that 50% of this space is wasted on a...</td>\n",
       "    </tr>\n",
       "    <tr>\n",
       "      <th>1</th>\n",
       "      <td>Male</td>\n",
       "      <td>23.0</td>\n",
       "      <td>12.30</td>\n",
       "      <td>81.0</td>\n",
       "      <td>524.0</td>\n",
       "      <td>graduate</td>\n",
       "      <td>466.0</td>\n",
       "      <td>An Open Letter to GaleForce9*:\\n\\nYour unpaint...</td>\n",
       "      <td>Another worthless Dungeon Master's screen from...</td>\n",
       "    </tr>\n",
       "    <tr>\n",
       "      <th>2</th>\n",
       "      <td>Female</td>\n",
       "      <td>22.0</td>\n",
       "      <td>13.12</td>\n",
       "      <td>6.0</td>\n",
       "      <td>40.0</td>\n",
       "      <td>graduate</td>\n",
       "      <td>254.0</td>\n",
       "      <td>Nice art, nice printing.  Why two panels are f...</td>\n",
       "      <td>pretty, but also pretty useless</td>\n",
       "    </tr>\n",
       "    <tr>\n",
       "      <th>3</th>\n",
       "      <td>Female</td>\n",
       "      <td>25.0</td>\n",
       "      <td>13.12</td>\n",
       "      <td>77.0</td>\n",
       "      <td>562.0</td>\n",
       "      <td>graduate</td>\n",
       "      <td>263.0</td>\n",
       "      <td>Amazing buy! Bought it as a gift for our new d...</td>\n",
       "      <td>Five Stars</td>\n",
       "    </tr>\n",
       "    <tr>\n",
       "      <th>4</th>\n",
       "      <td>Female</td>\n",
       "      <td>33.0</td>\n",
       "      <td>13.94</td>\n",
       "      <td>40.0</td>\n",
       "      <td>366.0</td>\n",
       "      <td>graduate</td>\n",
       "      <td>291.0</td>\n",
       "      <td>As my review of GF9's previous screens these w...</td>\n",
       "      <td>Money trap</td>\n",
       "    </tr>\n",
       "    <tr>\n",
       "      <th>...</th>\n",
       "      <td>...</td>\n",
       "      <td>...</td>\n",
       "      <td>...</td>\n",
       "      <td>...</td>\n",
       "      <td>...</td>\n",
       "      <td>...</td>\n",
       "      <td>...</td>\n",
       "      <td>...</td>\n",
       "      <td>...</td>\n",
       "    </tr>\n",
       "    <tr>\n",
       "      <th>1995</th>\n",
       "      <td>NaN</td>\n",
       "      <td>NaN</td>\n",
       "      <td>NaN</td>\n",
       "      <td>NaN</td>\n",
       "      <td>NaN</td>\n",
       "      <td>NaN</td>\n",
       "      <td>NaN</td>\n",
       "      <td>The perfect word game for mixed ages with Mom ...</td>\n",
       "      <td>The perfect word game for mixed ages with Mom</td>\n",
       "    </tr>\n",
       "    <tr>\n",
       "      <th>1996</th>\n",
       "      <td>NaN</td>\n",
       "      <td>NaN</td>\n",
       "      <td>NaN</td>\n",
       "      <td>NaN</td>\n",
       "      <td>NaN</td>\n",
       "      <td>NaN</td>\n",
       "      <td>NaN</td>\n",
       "      <td>Great game  Did not think I would like it when...</td>\n",
       "      <td>Super fun</td>\n",
       "    </tr>\n",
       "    <tr>\n",
       "      <th>1997</th>\n",
       "      <td>NaN</td>\n",
       "      <td>NaN</td>\n",
       "      <td>NaN</td>\n",
       "      <td>NaN</td>\n",
       "      <td>NaN</td>\n",
       "      <td>NaN</td>\n",
       "      <td>NaN</td>\n",
       "      <td>Great game for all\\nKeeps the mind nimble</td>\n",
       "      <td>Great Game</td>\n",
       "    </tr>\n",
       "    <tr>\n",
       "      <th>1998</th>\n",
       "      <td>NaN</td>\n",
       "      <td>NaN</td>\n",
       "      <td>NaN</td>\n",
       "      <td>NaN</td>\n",
       "      <td>NaN</td>\n",
       "      <td>NaN</td>\n",
       "      <td>NaN</td>\n",
       "      <td>fun game</td>\n",
       "      <td>Four Stars</td>\n",
       "    </tr>\n",
       "    <tr>\n",
       "      <th>1999</th>\n",
       "      <td>NaN</td>\n",
       "      <td>NaN</td>\n",
       "      <td>NaN</td>\n",
       "      <td>NaN</td>\n",
       "      <td>NaN</td>\n",
       "      <td>NaN</td>\n",
       "      <td>NaN</td>\n",
       "      <td>This game is fun A lot like scrabble without a...</td>\n",
       "      <td>Love this game</td>\n",
       "    </tr>\n",
       "  </tbody>\n",
       "</table>\n",
       "<p>4000 rows × 9 columns</p>\n",
       "</div>"
      ],
      "text/plain": [
       "      gender   age  remuneration  spending_score  loyalty_points education  \\\n",
       "0       Male  18.0         12.30            39.0           210.0  graduate   \n",
       "1       Male  23.0         12.30            81.0           524.0  graduate   \n",
       "2     Female  22.0         13.12             6.0            40.0  graduate   \n",
       "3     Female  25.0         13.12            77.0           562.0  graduate   \n",
       "4     Female  33.0         13.94            40.0           366.0  graduate   \n",
       "...      ...   ...           ...             ...             ...       ...   \n",
       "1995     NaN   NaN           NaN             NaN             NaN       NaN   \n",
       "1996     NaN   NaN           NaN             NaN             NaN       NaN   \n",
       "1997     NaN   NaN           NaN             NaN             NaN       NaN   \n",
       "1998     NaN   NaN           NaN             NaN             NaN       NaN   \n",
       "1999     NaN   NaN           NaN             NaN             NaN       NaN   \n",
       "\n",
       "      product                                             review  \\\n",
       "0       453.0  When it comes to a DM's screen, the space on t...   \n",
       "1       466.0  An Open Letter to GaleForce9*:\\n\\nYour unpaint...   \n",
       "2       254.0  Nice art, nice printing.  Why two panels are f...   \n",
       "3       263.0  Amazing buy! Bought it as a gift for our new d...   \n",
       "4       291.0  As my review of GF9's previous screens these w...   \n",
       "...       ...                                                ...   \n",
       "1995      NaN  The perfect word game for mixed ages with Mom ...   \n",
       "1996      NaN  Great game  Did not think I would like it when...   \n",
       "1997      NaN          Great game for all\\nKeeps the mind nimble   \n",
       "1998      NaN                                           fun game   \n",
       "1999      NaN  This game is fun A lot like scrabble without a...   \n",
       "\n",
       "                                                summary  \n",
       "0     The fact that 50% of this space is wasted on a...  \n",
       "1     Another worthless Dungeon Master's screen from...  \n",
       "2                       pretty, but also pretty useless  \n",
       "3                                            Five Stars  \n",
       "4                                            Money trap  \n",
       "...                                                 ...  \n",
       "1995      The perfect word game for mixed ages with Mom  \n",
       "1996                                          Super fun  \n",
       "1997                                         Great Game  \n",
       "1998                                         Four Stars  \n",
       "1999                                     Love this game  \n",
       "\n",
       "[4000 rows x 9 columns]"
      ]
     },
     "execution_count": 43,
     "metadata": {},
     "output_type": "execute_result"
    }
   ],
   "source": [
    "res = df.append(df3)\n",
    "res"
   ]
  },
  {
   "cell_type": "code",
   "execution_count": 44,
   "id": "5013d3ee",
   "metadata": {
    "scrolled": true
   },
   "outputs": [
    {
     "data": {
      "text/plain": [
       "29"
      ]
     },
     "execution_count": 44,
     "metadata": {},
     "output_type": "execute_result"
    }
   ],
   "source": [
    "# Drop duplicates in both columns.\n",
    "df3.duplicated().sum()"
   ]
  },
  {
   "cell_type": "code",
   "execution_count": 45,
   "id": "e052c8c4",
   "metadata": {},
   "outputs": [
    {
     "data": {
      "text/html": [
       "<div>\n",
       "<style scoped>\n",
       "    .dataframe tbody tr th:only-of-type {\n",
       "        vertical-align: middle;\n",
       "    }\n",
       "\n",
       "    .dataframe tbody tr th {\n",
       "        vertical-align: top;\n",
       "    }\n",
       "\n",
       "    .dataframe thead th {\n",
       "        text-align: right;\n",
       "    }\n",
       "</style>\n",
       "<table border=\"1\" class=\"dataframe\">\n",
       "  <thead>\n",
       "    <tr style=\"text-align: right;\">\n",
       "      <th></th>\n",
       "      <th>review</th>\n",
       "      <th>summary</th>\n",
       "    </tr>\n",
       "  </thead>\n",
       "  <tbody>\n",
       "    <tr>\n",
       "      <th>0</th>\n",
       "      <td>When it comes to a DMs screen the space on the...</td>\n",
       "      <td>The fact that 50 of this space is wasted on ar...</td>\n",
       "    </tr>\n",
       "    <tr>\n",
       "      <th>1</th>\n",
       "      <td>An Open Letter to GaleForce9\\n\\nYour unpainted...</td>\n",
       "      <td>Another worthless Dungeon Masters screen from ...</td>\n",
       "    </tr>\n",
       "    <tr>\n",
       "      <th>2</th>\n",
       "      <td>Nice art nice printing  Why two panels are fil...</td>\n",
       "      <td>pretty but also pretty useless</td>\n",
       "    </tr>\n",
       "    <tr>\n",
       "      <th>3</th>\n",
       "      <td>Amazing buy Bought it as a gift for our new dm...</td>\n",
       "      <td>Five Stars</td>\n",
       "    </tr>\n",
       "    <tr>\n",
       "      <th>4</th>\n",
       "      <td>As my review of GF9s previous screens these we...</td>\n",
       "      <td>Money trap</td>\n",
       "    </tr>\n",
       "    <tr>\n",
       "      <th>...</th>\n",
       "      <td>...</td>\n",
       "      <td>...</td>\n",
       "    </tr>\n",
       "    <tr>\n",
       "      <th>1995</th>\n",
       "      <td>The perfect word game for mixed ages with Mom ...</td>\n",
       "      <td>The perfect word game for mixed ages with Mom</td>\n",
       "    </tr>\n",
       "    <tr>\n",
       "      <th>1996</th>\n",
       "      <td>Great game  Did not think I would like it when...</td>\n",
       "      <td>Super fun</td>\n",
       "    </tr>\n",
       "    <tr>\n",
       "      <th>1997</th>\n",
       "      <td>Great game for all\\nKeeps the mind nimble</td>\n",
       "      <td>Great Game</td>\n",
       "    </tr>\n",
       "    <tr>\n",
       "      <th>1998</th>\n",
       "      <td>fun game</td>\n",
       "      <td>Four Stars</td>\n",
       "    </tr>\n",
       "    <tr>\n",
       "      <th>1999</th>\n",
       "      <td>This game is fun A lot like scrabble without a...</td>\n",
       "      <td>Love this game</td>\n",
       "    </tr>\n",
       "  </tbody>\n",
       "</table>\n",
       "<p>2000 rows × 2 columns</p>\n",
       "</div>"
      ],
      "text/plain": [
       "                                                 review  \\\n",
       "0     When it comes to a DMs screen the space on the...   \n",
       "1     An Open Letter to GaleForce9\\n\\nYour unpainted...   \n",
       "2     Nice art nice printing  Why two panels are fil...   \n",
       "3     Amazing buy Bought it as a gift for our new dm...   \n",
       "4     As my review of GF9s previous screens these we...   \n",
       "...                                                 ...   \n",
       "1995  The perfect word game for mixed ages with Mom ...   \n",
       "1996  Great game  Did not think I would like it when...   \n",
       "1997          Great game for all\\nKeeps the mind nimble   \n",
       "1998                                           fun game   \n",
       "1999  This game is fun A lot like scrabble without a...   \n",
       "\n",
       "                                                summary  \n",
       "0     The fact that 50 of this space is wasted on ar...  \n",
       "1     Another worthless Dungeon Masters screen from ...  \n",
       "2                        pretty but also pretty useless  \n",
       "3                                            Five Stars  \n",
       "4                                            Money trap  \n",
       "...                                                 ...  \n",
       "1995      The perfect word game for mixed ages with Mom  \n",
       "1996                                          Super fun  \n",
       "1997                                         Great Game  \n",
       "1998                                         Four Stars  \n",
       "1999                                     Love this game  \n",
       "\n",
       "[2000 rows x 2 columns]"
      ]
     },
     "execution_count": 45,
     "metadata": {},
     "output_type": "execute_result"
    }
   ],
   "source": [
    "df3"
   ]
  },
  {
   "cell_type": "code",
   "execution_count": 46,
   "id": "e010f18a",
   "metadata": {},
   "outputs": [
    {
     "data": {
      "text/html": [
       "<div>\n",
       "<style scoped>\n",
       "    .dataframe tbody tr th:only-of-type {\n",
       "        vertical-align: middle;\n",
       "    }\n",
       "\n",
       "    .dataframe tbody tr th {\n",
       "        vertical-align: top;\n",
       "    }\n",
       "\n",
       "    .dataframe thead th {\n",
       "        text-align: right;\n",
       "    }\n",
       "</style>\n",
       "<table border=\"1\" class=\"dataframe\">\n",
       "  <thead>\n",
       "    <tr style=\"text-align: right;\">\n",
       "      <th></th>\n",
       "      <th>review</th>\n",
       "      <th>summary</th>\n",
       "    </tr>\n",
       "  </thead>\n",
       "  <tbody>\n",
       "    <tr>\n",
       "      <th>0</th>\n",
       "      <td>When it comes to a DM's screen, the space on t...</td>\n",
       "      <td>The fact that 50% of this space is wasted on a...</td>\n",
       "    </tr>\n",
       "    <tr>\n",
       "      <th>1</th>\n",
       "      <td>An Open Letter to GaleForce9*:\\n\\nYour unpaint...</td>\n",
       "      <td>Another worthless Dungeon Master's screen from...</td>\n",
       "    </tr>\n",
       "    <tr>\n",
       "      <th>2</th>\n",
       "      <td>Nice art, nice printing.  Why two panels are f...</td>\n",
       "      <td>pretty, but also pretty useless</td>\n",
       "    </tr>\n",
       "    <tr>\n",
       "      <th>3</th>\n",
       "      <td>Amazing buy! Bought it as a gift for our new d...</td>\n",
       "      <td>Five Stars</td>\n",
       "    </tr>\n",
       "    <tr>\n",
       "      <th>4</th>\n",
       "      <td>As my review of GF9's previous screens these w...</td>\n",
       "      <td>Money trap</td>\n",
       "    </tr>\n",
       "    <tr>\n",
       "      <th>...</th>\n",
       "      <td>...</td>\n",
       "      <td>...</td>\n",
       "    </tr>\n",
       "    <tr>\n",
       "      <th>1995</th>\n",
       "      <td>The perfect word game for mixed ages (with Mom...</td>\n",
       "      <td>The perfect word game for mixed ages (with Mom</td>\n",
       "    </tr>\n",
       "    <tr>\n",
       "      <th>1996</th>\n",
       "      <td>Great game.  Did not think I would like it whe...</td>\n",
       "      <td>Super fun</td>\n",
       "    </tr>\n",
       "    <tr>\n",
       "      <th>1997</th>\n",
       "      <td>Great game for all.........\\nKeeps the mind ni...</td>\n",
       "      <td>Great Game</td>\n",
       "    </tr>\n",
       "    <tr>\n",
       "      <th>1998</th>\n",
       "      <td>fun game!</td>\n",
       "      <td>Four Stars</td>\n",
       "    </tr>\n",
       "    <tr>\n",
       "      <th>1999</th>\n",
       "      <td>This game is fun. A lot like scrabble without ...</td>\n",
       "      <td>Love this game</td>\n",
       "    </tr>\n",
       "  </tbody>\n",
       "</table>\n",
       "<p>2000 rows × 2 columns</p>\n",
       "</div>"
      ],
      "text/plain": [
       "                                                 review  \\\n",
       "0     When it comes to a DM's screen, the space on t...   \n",
       "1     An Open Letter to GaleForce9*:\\n\\nYour unpaint...   \n",
       "2     Nice art, nice printing.  Why two panels are f...   \n",
       "3     Amazing buy! Bought it as a gift for our new d...   \n",
       "4     As my review of GF9's previous screens these w...   \n",
       "...                                                 ...   \n",
       "1995  The perfect word game for mixed ages (with Mom...   \n",
       "1996  Great game.  Did not think I would like it whe...   \n",
       "1997  Great game for all.........\\nKeeps the mind ni...   \n",
       "1998                                          fun game!   \n",
       "1999  This game is fun. A lot like scrabble without ...   \n",
       "\n",
       "                                                summary  \n",
       "0     The fact that 50% of this space is wasted on a...  \n",
       "1     Another worthless Dungeon Master's screen from...  \n",
       "2                       pretty, but also pretty useless  \n",
       "3                                            Five Stars  \n",
       "4                                            Money trap  \n",
       "...                                                 ...  \n",
       "1995     The perfect word game for mixed ages (with Mom  \n",
       "1996                                          Super fun  \n",
       "1997                                         Great Game  \n",
       "1998                                         Four Stars  \n",
       "1999                                     Love this game  \n",
       "\n",
       "[2000 rows x 2 columns]"
      ]
     },
     "execution_count": 46,
     "metadata": {},
     "output_type": "execute_result"
    }
   ],
   "source": [
    "# Tokenise and create word clouds for the respective columns (separately).\n",
    "# Create a copy of the DataFrame.\n",
    "df3 = df.loc[:, ['review','summary']]\n",
    "df3"
   ]
  },
  {
   "cell_type": "code",
   "execution_count": 47,
   "id": "4b571982",
   "metadata": {
    "scrolled": false
   },
   "outputs": [
    {
     "name": "stdout",
     "output_type": "stream",
     "text": [
      "      gender  age  remuneration  spending_score  loyalty_points education  \\\n",
      "0       Male   18         12.30              39             210  graduate   \n",
      "1       Male   23         12.30              81             524  graduate   \n",
      "2     Female   22         13.12               6              40  graduate   \n",
      "3     Female   25         13.12              77             562  graduate   \n",
      "4     Female   33         13.94              40             366  graduate   \n",
      "...      ...  ...           ...             ...             ...       ...   \n",
      "1995  Female   37         84.46              69            4031       PhD   \n",
      "1996  Female   43         92.66               8             539       PhD   \n",
      "1997    Male   34         92.66              91            5614  graduate   \n",
      "1998    Male   34         98.40              16            1048       PhD   \n",
      "1999    Male   32         92.66               8             479       PhD   \n",
      "\n",
      "      product                                             review  \\\n",
      "0         453  When it comes to a DM's screen, the space on t...   \n",
      "1         466  An Open Letter to GaleForce9*:\\n\\nYour unpaint...   \n",
      "2         254  Nice art, nice printing.  Why two panels are f...   \n",
      "3         263  Amazing buy! Bought it as a gift for our new d...   \n",
      "4         291  As my review of GF9's previous screens these w...   \n",
      "...       ...                                                ...   \n",
      "1995      977  The perfect word game for mixed ages (with Mom...   \n",
      "1996      979  Great game.  Did not think I would like it whe...   \n",
      "1997     1012  Great game for all.........\\nKeeps the mind ni...   \n",
      "1998     1031                                          fun game!   \n",
      "1999      453  This game is fun. A lot like scrabble without ...   \n",
      "\n",
      "                                                summary  \n",
      "0     The fact that 50% of this space is wasted on a...  \n",
      "1     Another worthless Dungeon Master's screen from...  \n",
      "2                       pretty, but also pretty useless  \n",
      "3                                            Five Stars  \n",
      "4                                            Money trap  \n",
      "...                                                 ...  \n",
      "1995     The perfect word game for mixed ages (with Mom  \n",
      "1996                                          Super fun  \n",
      "1997                                         Great Game  \n",
      "1998                                         Four Stars  \n",
      "1999                                     Love this game  \n",
      "\n",
      "[2000 rows x 9 columns]\n"
     ]
    }
   ],
   "source": [
    "# Create a copy of the DataFrame.\n",
    "df3 = df.copy(deep=True)\n",
    "print(df3)"
   ]
  },
  {
   "cell_type": "code",
   "execution_count": 48,
   "id": "ccbf068f",
   "metadata": {},
   "outputs": [
    {
     "name": "stdout",
     "output_type": "stream",
     "text": [
      "Requirement already satisfied: WordCloud in c:\\users\\44794\\anaconda3\\lib\\site-packages (1.8.2.2)\n",
      "Requirement already satisfied: numpy>=1.6.1 in c:\\users\\44794\\anaconda3\\lib\\site-packages (from WordCloud) (1.21.5)\n",
      "Requirement already satisfied: pillow in c:\\users\\44794\\anaconda3\\lib\\site-packages (from WordCloud) (9.0.1)\n",
      "Requirement already satisfied: matplotlib in c:\\users\\44794\\anaconda3\\lib\\site-packages (from WordCloud) (3.5.1)\n",
      "Requirement already satisfied: fonttools>=4.22.0 in c:\\users\\44794\\anaconda3\\lib\\site-packages (from matplotlib->WordCloud) (4.25.0)\n",
      "Requirement already satisfied: packaging>=20.0 in c:\\users\\44794\\anaconda3\\lib\\site-packages (from matplotlib->WordCloud) (21.3)\n",
      "Requirement already satisfied: kiwisolver>=1.0.1 in c:\\users\\44794\\anaconda3\\lib\\site-packages (from matplotlib->WordCloud) (1.3.2)\n",
      "Requirement already satisfied: cycler>=0.10 in c:\\users\\44794\\anaconda3\\lib\\site-packages (from matplotlib->WordCloud) (0.11.0)\n",
      "Requirement already satisfied: pyparsing>=2.2.1 in c:\\users\\44794\\anaconda3\\lib\\site-packages (from matplotlib->WordCloud) (3.0.4)\n",
      "Requirement already satisfied: python-dateutil>=2.7 in c:\\users\\44794\\anaconda3\\lib\\site-packages (from matplotlib->WordCloud) (2.8.2)\n",
      "Requirement already satisfied: six>=1.5 in c:\\users\\44794\\anaconda3\\lib\\site-packages (from python-dateutil>=2.7->matplotlib->WordCloud) (1.16.0)\n"
     ]
    }
   ],
   "source": [
    "!pip install WordCloud"
   ]
  },
  {
   "cell_type": "code",
   "execution_count": 49,
   "id": "cf13e989",
   "metadata": {
    "scrolled": false
   },
   "outputs": [
    {
     "name": "stderr",
     "output_type": "stream",
     "text": [
      "[nltk_data] Downloading package stopwords to\n",
      "[nltk_data]     C:\\Users\\44794\\AppData\\Roaming\\nltk_data...\n",
      "[nltk_data]   Package stopwords is already up-to-date!\n",
      "[nltk_data] Downloading package words to\n",
      "[nltk_data]     C:\\Users\\44794\\AppData\\Roaming\\nltk_data...\n",
      "[nltk_data]   Package words is already up-to-date!\n"
     ]
    }
   ],
   "source": [
    "# Import the necessary libraries and packages + nltk  \n",
    "import nltk\n",
    "from nltk.corpus import stopwords\n",
    "from nltk.corpus import words\n",
    "\n",
    "nltk.download('stopwords')\n",
    "nltk.download('words')\n",
    "from nltk.tokenize import word_tokenize\n",
    "\n",
    "# Create a variable to store the stopwords. \n",
    "stop_words = set(stopwords.words('english'))"
   ]
  },
  {
   "cell_type": "code",
   "execution_count": 50,
   "id": "9b276e1e",
   "metadata": {},
   "outputs": [
    {
     "name": "stdout",
     "output_type": "stream",
     "text": [
      "      gender  age  remuneration  spending_score  loyalty_points education  \\\n",
      "0       Male   18         12.30              39             210  graduate   \n",
      "1       Male   23         12.30              81             524  graduate   \n",
      "2     Female   22         13.12               6              40  graduate   \n",
      "3     Female   25         13.12              77             562  graduate   \n",
      "4     Female   33         13.94              40             366  graduate   \n",
      "...      ...  ...           ...             ...             ...       ...   \n",
      "1995  Female   37         84.46              69            4031       PhD   \n",
      "1996  Female   43         92.66               8             539       PhD   \n",
      "1997    Male   34         92.66              91            5614  graduate   \n",
      "1998    Male   34         98.40              16            1048       PhD   \n",
      "1999    Male   32         92.66               8             479       PhD   \n",
      "\n",
      "      product                                             review  \\\n",
      "0         453  When it comes to a DM's screen, the space on t...   \n",
      "1         466  An Open Letter to GaleForce9*:\\n\\nYour unpaint...   \n",
      "2         254  Nice art, nice printing.  Why two panels are f...   \n",
      "3         263  Amazing buy! Bought it as a gift for our new d...   \n",
      "4         291  As my review of GF9's previous screens these w...   \n",
      "...       ...                                                ...   \n",
      "1995      977  The perfect word game for mixed ages (with Mom...   \n",
      "1996      979  Great game.  Did not think I would like it whe...   \n",
      "1997     1012  Great game for all.........\\nKeeps the mind ni...   \n",
      "1998     1031                                          fun game!   \n",
      "1999      453  This game is fun. A lot like scrabble without ...   \n",
      "\n",
      "                                                summary  \\\n",
      "0     The fact that 50% of this space is wasted on a...   \n",
      "1     Another worthless Dungeon Master's screen from...   \n",
      "2                       pretty, but also pretty useless   \n",
      "3                                            Five Stars   \n",
      "4                                            Money trap   \n",
      "...                                                 ...   \n",
      "1995     The perfect word game for mixed ages (with Mom   \n",
      "1996                                          Super fun   \n",
      "1997                                         Great Game   \n",
      "1998                                         Four Stars   \n",
      "1999                                     Love this game   \n",
      "\n",
      "                                                 tokens  \n",
      "0     [The, fact, that, 50, %, of, this, space, is, ...  \n",
      "1     [Another, worthless, Dungeon, Master, 's, scre...  \n",
      "2               [pretty, ,, but, also, pretty, useless]  \n",
      "3                                         [Five, Stars]  \n",
      "4                                         [Money, trap]  \n",
      "...                                                 ...  \n",
      "1995  [The, perfect, word, game, for, mixed, ages, (...  \n",
      "1996                                       [Super, fun]  \n",
      "1997                                      [Great, Game]  \n",
      "1998                                      [Four, Stars]  \n",
      "1999                                 [Love, this, game]  \n",
      "\n",
      "[2000 rows x 10 columns]\n"
     ]
    }
   ],
   "source": [
    "# Define tokenize function\n",
    "def tokenize_text(text):\n",
    "    tokens = nltk.word_tokenize(text)\n",
    "    return tokens\n",
    "# Apply tokenization function to text column\n",
    "df['tokens'] = df['summary'].apply(tokenize_text)\n",
    "print(df)"
   ]
  },
  {
   "cell_type": "code",
   "execution_count": 53,
   "id": "5d8a1824",
   "metadata": {},
   "outputs": [],
   "source": [
    "# Import along with matplotlib and seaborn for visualisation.\n",
    "from wordcloud import WordCloud \n",
    "import matplotlib.pyplot as plt \n",
    "import nltk "
   ]
  },
  {
   "cell_type": "code",
   "execution_count": 54,
   "id": "1546c7b5",
   "metadata": {},
   "outputs": [
    {
     "ename": "SyntaxError",
     "evalue": "invalid syntax (834984236.py, line 1)",
     "output_type": "error",
     "traceback": [
      "\u001b[1;36m  Input \u001b[1;32mIn [54]\u001b[1;36m\u001b[0m\n\u001b[1;33m    pip install wordcloud\u001b[0m\n\u001b[1;37m        ^\u001b[0m\n\u001b[1;31mSyntaxError\u001b[0m\u001b[1;31m:\u001b[0m invalid syntax\n"
     ]
    }
   ],
   "source": [
    "pip install wordcloud\n",
    "pip install stopwords"
   ]
  },
  {
   "cell_type": "code",
   "execution_count": 55,
   "id": "12de0da2",
   "metadata": {},
   "outputs": [
    {
     "name": "stderr",
     "output_type": "stream",
     "text": [
      "[nltk_data] Downloading package punkt to\n",
      "[nltk_data]     C:\\Users\\44794\\AppData\\Roaming\\nltk_data...\n",
      "[nltk_data]   Package punkt is already up-to-date!\n"
     ]
    },
    {
     "data": {
      "text/plain": [
       "True"
      ]
     },
     "execution_count": 55,
     "metadata": {},
     "output_type": "execute_result"
    }
   ],
   "source": [
    "# Download necessary ressources\n",
    "nltk.download('punkt')"
   ]
  },
  {
   "cell_type": "code",
   "execution_count": 56,
   "id": "beb1fdda",
   "metadata": {},
   "outputs": [],
   "source": [
    "text = \"most commum words\""
   ]
  },
  {
   "cell_type": "code",
   "execution_count": 57,
   "id": "7251a105",
   "metadata": {},
   "outputs": [],
   "source": [
    "tokens = nltk.word_tokenize(text)"
   ]
  },
  {
   "cell_type": "code",
   "execution_count": 58,
   "id": "6800e9df",
   "metadata": {},
   "outputs": [],
   "source": [
    "from nltk.corpus import stopwords\n",
    "\n",
    "# Load English stopwords\n",
    "stopwords = stopwords.words('english')\n",
    "\n",
    "# Remove stopwords from the text data\n",
    "text_data = 'your text data'\n",
    "cleaned_text = ' '.join([word for word in text_data.split() if word.lower() not in stopwords])"
   ]
  },
  {
   "cell_type": "code",
   "execution_count": 59,
   "id": "95dd449e",
   "metadata": {},
   "outputs": [
    {
     "data": {
      "image/png": "[encoded data removed]",
      "text/plain": [
       "<Figure size 576x576 with 1 Axes>"
      ]
     },
     "metadata": {},
     "output_type": "display_data"
    }
   ],
   "source": [
    "from wordcloud import WordCloud\n",
    "import matplotlib.pyplot as plt\n",
    "\n",
    "# Generate word cloud\n",
    "wordcloud = WordCloud(width = 800, height = 800,\n",
    "                background_color ='white',\n",
    "                stopwords = stopwords,\n",
    "                min_font_size = 10).generate(cleaned_text)\n",
    "\n",
    "# Plot the word cloud\n",
    "plt.figure(figsize = (8, 8), facecolor = None)\n",
    "plt.imshow(wordcloud)\n",
    "plt.axis(\"off\")\n",
    "plt.tight_layout(pad = 0)\n",
    "  \n",
    "plt.show()"
   ]
  },
  {
   "cell_type": "code",
   "execution_count": 60,
   "id": "62e20a0e",
   "metadata": {},
   "outputs": [
    {
     "data": {
      "text/plain": [
       "array(['The fact that 50% of this space is wasted on art (and not terribly informative or needed art ...',\n",
       "       \"Another worthless Dungeon Master's screen from GaleForce9\",\n",
       "       'pretty, but also pretty useless', ..., 'Great Game', 'Four Stars',\n",
       "       'Love this game'], dtype=object)"
      ]
     },
     "execution_count": 60,
     "metadata": {},
     "output_type": "execute_result"
    }
   ],
   "source": [
    "# Determine values of output.\n",
    "df3 = df['summary'].values\n",
    "\n",
    "# View results.\n",
    "df3"
   ]
  },
  {
   "cell_type": "code",
   "execution_count": 61,
   "id": "c67b74f3",
   "metadata": {},
   "outputs": [
    {
     "data": {
      "text/plain": [
       "array([\"When it comes to a DM's screen, the space on the screen itself is at an absolute premium. The fact that 50% of this space is wasted on art (and not terribly informative or needed art as well) makes it completely useless. The only reason that I gave it 2 stars and not 1 was that, technically speaking, it can at least still stand up to block your notes and dice rolls. Other than that, it drops the ball completely.\",\n",
       "       'An Open Letter to GaleForce9*:\\n\\nYour unpainted miniatures are very not bad. Your spell cards are great. Your board games are \"meh\". Your DM screens, however, are freaking terrible. I\\'m still waiting for a single screen that isn\\'t polluted with pointless artwork where useful, reference-able tables should be. Once again, you\\'ve created a single use screen that is only useful when running the \"Storm King\\'s Thunder\" adventure. Even despite the fact that it\\'s geared to that adventure path, it\\'s usefulness negligible, at best. I massive swath of the inner panel is wasted on artwork and a bloated overland map, which could have been easily reduced to a single panel in size. And the few table you have are nigh-useless themselves.\\n\\nIn short, stop making crap DM screens.',\n",
       "       'Nice art, nice printing.  Why two panels are filled with a general Forgotten Realms map is beyond me.  Most of one of them is all blue ocean.  Such a waste.\\n\\nI don\\'t understand why they can\\'t make these DM Screens more useful for these \"kinds of adventures\" rather than solely the specific adventure.  You\\'re supposed to be able to transpose this adventure to other lands outside the Forgotten Realms.  So even just a list of new monsters or NPCs would at least be useful than the map.  Even more would just be stuff related to running the game but broad-use stuff related to giants.\\n\\nSame thing with Curse of Strahd.  Why not make it useful for raven loft, undead or horror campaigns in general... instead a huge amount of screen space is solely mapping out Castle Ravenloft, which is only useful during a small fraction of the time even for the Curse of Strahd adventure, let alone various other Ravenloft adventuring.\\n\\nThey really kill the extended use of these screens by not thinking about their potential use, both for the adventure in question, as well as use in a broader sense.\\n\\nThe Rage of Demons screen is far more useful for broad under dark adventuring - covering a lot of rules for the various conditions you may suffer... and the map is only one panel.\\n\\nThis Storm Giants one is decent for a few tables it includes - but really misses the mark.  Maybe they should ask a few DMs what they would use?',\n",
       "       ..., 'Great game for all.........\\nKeeps the mind nimble!',\n",
       "       'fun game!',\n",
       "       'This game is fun. A lot like scrabble without all those little tiles to lose.'],\n",
       "      dtype=object)"
      ]
     },
     "execution_count": 61,
     "metadata": {},
     "output_type": "execute_result"
    }
   ],
   "source": [
    "# Determine values of output.\n",
    "df1 = df['review'].values\n",
    "\n",
    "# View results.\n",
    "df1"
   ]
  },
  {
   "cell_type": "code",
   "execution_count": 62,
   "id": "7e90626b",
   "metadata": {
    "scrolled": true
   },
   "outputs": [
    {
     "name": "stderr",
     "output_type": "stream",
     "text": [
      "[nltk_data] Downloading package stopwords to\n",
      "[nltk_data]     C:\\Users\\44794\\AppData\\Roaming\\nltk_data...\n",
      "[nltk_data]   Package stopwords is already up-to-date!\n",
      "[nltk_data] Downloading package words to\n",
      "[nltk_data]     C:\\Users\\44794\\AppData\\Roaming\\nltk_data...\n",
      "[nltk_data]   Package words is already up-to-date!\n"
     ]
    }
   ],
   "source": [
    "# Import the necessary libraries and packages + nltk  \n",
    "import nltk\n",
    "from nltk.corpus import stopwords\n",
    "from nltk.corpus import words\n",
    "\n",
    "nltk.download('stopwords')\n",
    "nltk.download('words')\n",
    "from nltk.tokenize import word_tokenize\n",
    "\n",
    "# Create a variable to store the stopwords. \n",
    "stop_words = set(stopwords.words('english'))"
   ]
  },
  {
   "cell_type": "code",
   "execution_count": 63,
   "id": "25ec3bea",
   "metadata": {},
   "outputs": [
    {
     "name": "stdout",
     "output_type": "stream",
     "text": [
      "0\n",
      "The fact that 50% of this space is wasted on art (and not terribly informative or needed art ...\n",
      "1\n",
      "Another worthless Dungeon Master's screen from GaleForce9\n",
      "2\n",
      "pretty, but also pretty useless\n",
      "3\n",
      "Five Stars\n",
      "4\n",
      "Money trap\n",
      "5\n",
      "Five Stars\n",
      "6\n",
      "Best gm screen ever\n",
      "7\n",
      "Five Stars\n",
      "8\n",
      "Great but could be even better\n",
      "9\n",
      "Another missed opportunity.  Not a value add to the product line.\n",
      "10\n",
      "Five Stars\n",
      "11\n",
      "Love the map!\n",
      "12\n",
      "Not a general DM screen\n",
      "13\n",
      "Very weak game\n",
      "14\n",
      "Fell completely flat...\n"
     ]
    }
   ],
   "source": [
    "# Determine the frequency distribution and polarity\n",
    "for i in range(15):\n",
    "    print(i)\n",
    "    print(df3[i])"
   ]
  },
  {
   "cell_type": "code",
   "execution_count": 64,
   "id": "553f8aaa",
   "metadata": {},
   "outputs": [],
   "source": [
    "# Plot histograms of polarity (use 15 bins) for both columns.\n",
    "from textblob import TextBlob\n",
    "\n",
    "# Compute polarity of a text string\n",
    "text = 'love'\n",
    "polarity = TextBlob(text).sentiment.polarity"
   ]
  },
  {
   "cell_type": "code",
   "execution_count": 65,
   "id": "19772cf8",
   "metadata": {},
   "outputs": [
    {
     "data": {
      "image/png": "[encoded data removed]",
      "text/plain": [
       "<Figure size 864x576 with 1 Axes>"
      ]
     },
     "metadata": {},
     "output_type": "display_data"
    },
    {
     "data": {
      "image/png": "[encoded data removed]",
      "text/plain": [
       "<Figure size 864x576 with 1 Axes>"
      ]
     },
     "metadata": {},
     "output_type": "display_data"
    }
   ],
   "source": [
    "import pandas as pd\n",
    "from textblob import TextBlob\n",
    "import matplotlib.pyplot as plt\n",
    "\n",
    "# Load the data\n",
    "data = pd.read_csv('turtle_reviews.csv')\n",
    "\n",
    "# Compute polarity for column 1\n",
    "polarity_values_1 = []\n",
    "for text in data['summary']:\n",
    "    polarity = TextBlob(text).sentiment.polarity\n",
    "    polarity_values_1.append(polarity)\n",
    "\n",
    "# Create histogram for column 1\n",
    "plt.hist(polarity_values_1, bins=15)\n",
    "plt.title('Histogram of Polarity Values for Column 1')\n",
    "plt.xlabel('Polarity')\n",
    "plt.ylabel('Frequency')\n",
    "plt.show()\n",
    "\n",
    "# Compute polarity for column 2\n",
    "polarity_values_2 = []\n",
    "for text in data['review']:\n",
    "    polarity = TextBlob(text).sentiment.polarity\n",
    "    polarity_values_2.append(polarity)\n",
    "\n",
    "# Create histogram for column 2\n",
    "plt.hist(polarity_values_2, bins=15)\n",
    "plt.title('Histogram of Polarity Values for Column 2')\n",
    "plt.xlabel('Polarity')\n",
    "plt.ylabel('Frequency')\n",
    "plt.show()\n"
   ]
  },
  {
   "cell_type": "code",
   "execution_count": 87,
   "id": "138553c8",
   "metadata": {},
   "outputs": [
    {
     "name": "stdout",
     "output_type": "stream",
     "text": [
      "               text  sentiment_score\n",
      "0            I love              0.5\n",
      "1  This is terrible             -1.0\n",
      "2        Great game              0.2\n"
     ]
    }
   ],
   "source": [
    "# Review the sentiment scores for the respective columns\n",
    "import pandas as pd\n",
    "from textblob import TextBlob\n",
    "\n",
    "# create sample DataFrame\n",
    "df = pd.DataFrame({'text': ['I love', 'This is terrible', 'Great game']})\n",
    "\n",
    "# define a function to calculate sentiment score using TextBlob\n",
    "def get_sentiment(text):\n",
    "    blob = TextBlob(text)\n",
    "    return blob.sentiment.polarity\n",
    "\n",
    "# apply the function to the 'text' column and create a new column with sentiment scores\n",
    "df['sentiment_score'] = df['text'].apply(get_sentiment)\n",
    "\n",
    "# view the DataFrame with sentiment scores\n",
    "print(df)\n"
   ]
  },
  {
   "cell_type": "code",
   "execution_count": 88,
   "id": "b07f0d2c",
   "metadata": {},
   "outputs": [
    {
     "name": "stdout",
     "output_type": "stream",
     "text": [
      "Top 20 Positive Reviews and Summaries:\n",
      "Top 20 Negative Reviews and Summaries:\n",
      "         text  sentiment_score\n",
      "0      I love              0.5\n",
      "2  Great game              0.2\n",
      "         text  sentiment_score\n",
      "0      I love              0.5\n",
      "2  Great game              0.2\n"
     ]
    }
   ],
   "source": [
    "\n",
    "# Print the top 20 positive reviews and summaries for both columns\n",
    "top_positives = df[df['sentiment_score'] > 0].sort_values(by='sentiment_score', ascending=False).head(20)\n",
    "print('Top 20 Positive Reviews and Summaries:')\n",
    "\n",
    "\n",
    "# Print the top 20 negative reviews and summaries for both columns\n",
    "top_negatives = df[df['sentiment_score'] < 0].sort_values(by='sentiment_score').head(20)\n",
    "print('Top 20 Negative Reviews and Summaries:')\n",
    "\n",
    "print(top_positives)\n",
    "print(top_positives[['text', 'sentiment_score']])"
   ]
  },
  {
   "cell_type": "markdown",
   "id": "53287260",
   "metadata": {},
   "source": [
    "## The analysis is showing neutral sentiments and more likely positive. \n"
   ]
  }
 ],
 "metadata": {
  "kernelspec": {
   "display_name": "Python 3 (ipykernel)",
   "language": "python",
   "name": "python3"
  },
  "language_info": {
   "codemirror_mode": {
    "name": "ipython",
    "version": 3
   },
   "file_extension": ".py",
   "mimetype": "text/x-python",
   "name": "python",
   "nbconvert_exporter": "python",
   "pygments_lexer": "ipython3",
   "version": "3.9.12"
  }
 },
 "nbformat": 4,
 "nbformat_minor": 5
}
